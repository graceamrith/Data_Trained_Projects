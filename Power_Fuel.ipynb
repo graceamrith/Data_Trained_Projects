{
 "cells": [
  {
   "cell_type": "code",
   "execution_count": 50,
   "id": "7d88fb49",
   "metadata": {},
   "outputs": [],
   "source": [
    "import pandas as pd\n",
    "import numpy as np\n",
    "import seaborn as sns\n",
    "import matplotlib.pyplot as plt\n",
    "from sklearn.preprocessing import LabelEncoder\n",
    "from scipy.stats import zscore\n",
    "from scipy import stats\n",
    "from statsmodels.stats.outliers_influence import variance_inflation_factor"
   ]
  },
  {
   "cell_type": "code",
   "execution_count": 51,
   "id": "657691fc",
   "metadata": {},
   "outputs": [],
   "source": [
    "data=pd.read_csv('power.csv')"
   ]
  },
  {
   "cell_type": "code",
   "execution_count": 52,
   "id": "128ed0bf",
   "metadata": {},
   "outputs": [],
   "source": [
    "df=pd.DataFrame(data)"
   ]
  },
  {
   "cell_type": "code",
   "execution_count": 53,
   "id": "6a27b26a",
   "metadata": {},
   "outputs": [
    {
     "data": {
      "text/html": [
       "<div>\n",
       "<style scoped>\n",
       "    .dataframe tbody tr th:only-of-type {\n",
       "        vertical-align: middle;\n",
       "    }\n",
       "\n",
       "    .dataframe tbody tr th {\n",
       "        vertical-align: top;\n",
       "    }\n",
       "\n",
       "    .dataframe thead th {\n",
       "        text-align: right;\n",
       "    }\n",
       "</style>\n",
       "<table border=\"1\" class=\"dataframe\">\n",
       "  <thead>\n",
       "    <tr style=\"text-align: right;\">\n",
       "      <th></th>\n",
       "      <th>country</th>\n",
       "      <th>country_long</th>\n",
       "      <th>name</th>\n",
       "      <th>gppd_idnr</th>\n",
       "      <th>capacity_mw</th>\n",
       "      <th>latitude</th>\n",
       "      <th>longitude</th>\n",
       "      <th>primary_fuel</th>\n",
       "      <th>other_fuel1</th>\n",
       "      <th>other_fuel2</th>\n",
       "      <th>...</th>\n",
       "      <th>geolocation_source</th>\n",
       "      <th>wepp_id</th>\n",
       "      <th>year_of_capacity_data</th>\n",
       "      <th>generation_gwh_2013</th>\n",
       "      <th>generation_gwh_2014</th>\n",
       "      <th>generation_gwh_2015</th>\n",
       "      <th>generation_gwh_2016</th>\n",
       "      <th>generation_gwh_2017</th>\n",
       "      <th>generation_data_source</th>\n",
       "      <th>estimated_generation_gwh</th>\n",
       "    </tr>\n",
       "  </thead>\n",
       "  <tbody>\n",
       "    <tr>\n",
       "      <th>0</th>\n",
       "      <td>IND</td>\n",
       "      <td>India</td>\n",
       "      <td>ACME Solar Tower</td>\n",
       "      <td>WRI1020239</td>\n",
       "      <td>2.5</td>\n",
       "      <td>28.1839</td>\n",
       "      <td>73.2407</td>\n",
       "      <td>Solar</td>\n",
       "      <td>NaN</td>\n",
       "      <td>NaN</td>\n",
       "      <td>...</td>\n",
       "      <td>National Renewable Energy Laboratory</td>\n",
       "      <td>NaN</td>\n",
       "      <td>NaN</td>\n",
       "      <td>NaN</td>\n",
       "      <td>NaN</td>\n",
       "      <td>NaN</td>\n",
       "      <td>NaN</td>\n",
       "      <td>NaN</td>\n",
       "      <td>NaN</td>\n",
       "      <td>NaN</td>\n",
       "    </tr>\n",
       "    <tr>\n",
       "      <th>1</th>\n",
       "      <td>IND</td>\n",
       "      <td>India</td>\n",
       "      <td>ADITYA CEMENT WORKS</td>\n",
       "      <td>WRI1019881</td>\n",
       "      <td>98.0</td>\n",
       "      <td>24.7663</td>\n",
       "      <td>74.6090</td>\n",
       "      <td>Coal</td>\n",
       "      <td>NaN</td>\n",
       "      <td>NaN</td>\n",
       "      <td>...</td>\n",
       "      <td>WRI</td>\n",
       "      <td>NaN</td>\n",
       "      <td>NaN</td>\n",
       "      <td>NaN</td>\n",
       "      <td>NaN</td>\n",
       "      <td>NaN</td>\n",
       "      <td>NaN</td>\n",
       "      <td>NaN</td>\n",
       "      <td>NaN</td>\n",
       "      <td>NaN</td>\n",
       "    </tr>\n",
       "    <tr>\n",
       "      <th>2</th>\n",
       "      <td>IND</td>\n",
       "      <td>India</td>\n",
       "      <td>AES Saurashtra Windfarms</td>\n",
       "      <td>WRI1026669</td>\n",
       "      <td>39.2</td>\n",
       "      <td>21.9038</td>\n",
       "      <td>69.3732</td>\n",
       "      <td>Wind</td>\n",
       "      <td>NaN</td>\n",
       "      <td>NaN</td>\n",
       "      <td>...</td>\n",
       "      <td>WRI</td>\n",
       "      <td>NaN</td>\n",
       "      <td>NaN</td>\n",
       "      <td>NaN</td>\n",
       "      <td>NaN</td>\n",
       "      <td>NaN</td>\n",
       "      <td>NaN</td>\n",
       "      <td>NaN</td>\n",
       "      <td>NaN</td>\n",
       "      <td>NaN</td>\n",
       "    </tr>\n",
       "    <tr>\n",
       "      <th>3</th>\n",
       "      <td>IND</td>\n",
       "      <td>India</td>\n",
       "      <td>AGARTALA GT</td>\n",
       "      <td>IND0000001</td>\n",
       "      <td>135.0</td>\n",
       "      <td>23.8712</td>\n",
       "      <td>91.3602</td>\n",
       "      <td>Gas</td>\n",
       "      <td>NaN</td>\n",
       "      <td>NaN</td>\n",
       "      <td>...</td>\n",
       "      <td>WRI</td>\n",
       "      <td>NaN</td>\n",
       "      <td>2018.0</td>\n",
       "      <td>631.777928</td>\n",
       "      <td>617.789264</td>\n",
       "      <td>843.747000</td>\n",
       "      <td>886.004428</td>\n",
       "      <td>663.774500</td>\n",
       "      <td>Central Electricity Authority</td>\n",
       "      <td>NaN</td>\n",
       "    </tr>\n",
       "    <tr>\n",
       "      <th>4</th>\n",
       "      <td>IND</td>\n",
       "      <td>India</td>\n",
       "      <td>AKALTARA TPP</td>\n",
       "      <td>IND0000002</td>\n",
       "      <td>1800.0</td>\n",
       "      <td>21.9603</td>\n",
       "      <td>82.4091</td>\n",
       "      <td>Coal</td>\n",
       "      <td>Oil</td>\n",
       "      <td>NaN</td>\n",
       "      <td>...</td>\n",
       "      <td>WRI</td>\n",
       "      <td>NaN</td>\n",
       "      <td>2018.0</td>\n",
       "      <td>1668.290000</td>\n",
       "      <td>3035.550000</td>\n",
       "      <td>5916.370000</td>\n",
       "      <td>6243.000000</td>\n",
       "      <td>5385.579736</td>\n",
       "      <td>Central Electricity Authority</td>\n",
       "      <td>NaN</td>\n",
       "    </tr>\n",
       "    <tr>\n",
       "      <th>...</th>\n",
       "      <td>...</td>\n",
       "      <td>...</td>\n",
       "      <td>...</td>\n",
       "      <td>...</td>\n",
       "      <td>...</td>\n",
       "      <td>...</td>\n",
       "      <td>...</td>\n",
       "      <td>...</td>\n",
       "      <td>...</td>\n",
       "      <td>...</td>\n",
       "      <td>...</td>\n",
       "      <td>...</td>\n",
       "      <td>...</td>\n",
       "      <td>...</td>\n",
       "      <td>...</td>\n",
       "      <td>...</td>\n",
       "      <td>...</td>\n",
       "      <td>...</td>\n",
       "      <td>...</td>\n",
       "      <td>...</td>\n",
       "      <td>...</td>\n",
       "    </tr>\n",
       "    <tr>\n",
       "      <th>903</th>\n",
       "      <td>IND</td>\n",
       "      <td>India</td>\n",
       "      <td>YERMARUS TPP</td>\n",
       "      <td>IND0000513</td>\n",
       "      <td>1600.0</td>\n",
       "      <td>16.2949</td>\n",
       "      <td>77.3568</td>\n",
       "      <td>Coal</td>\n",
       "      <td>Oil</td>\n",
       "      <td>NaN</td>\n",
       "      <td>...</td>\n",
       "      <td>WRI</td>\n",
       "      <td>NaN</td>\n",
       "      <td>2018.0</td>\n",
       "      <td>NaN</td>\n",
       "      <td>NaN</td>\n",
       "      <td>0.994875</td>\n",
       "      <td>233.596650</td>\n",
       "      <td>865.400000</td>\n",
       "      <td>Central Electricity Authority</td>\n",
       "      <td>NaN</td>\n",
       "    </tr>\n",
       "    <tr>\n",
       "      <th>904</th>\n",
       "      <td>IND</td>\n",
       "      <td>India</td>\n",
       "      <td>Yelesandra Solar Power Plant</td>\n",
       "      <td>WRI1026222</td>\n",
       "      <td>3.0</td>\n",
       "      <td>12.8932</td>\n",
       "      <td>78.1654</td>\n",
       "      <td>Solar</td>\n",
       "      <td>NaN</td>\n",
       "      <td>NaN</td>\n",
       "      <td>...</td>\n",
       "      <td>Industry About</td>\n",
       "      <td>NaN</td>\n",
       "      <td>NaN</td>\n",
       "      <td>NaN</td>\n",
       "      <td>NaN</td>\n",
       "      <td>NaN</td>\n",
       "      <td>NaN</td>\n",
       "      <td>NaN</td>\n",
       "      <td>NaN</td>\n",
       "      <td>NaN</td>\n",
       "    </tr>\n",
       "    <tr>\n",
       "      <th>905</th>\n",
       "      <td>IND</td>\n",
       "      <td>India</td>\n",
       "      <td>Yelisirur wind power project</td>\n",
       "      <td>WRI1026776</td>\n",
       "      <td>25.5</td>\n",
       "      <td>15.2758</td>\n",
       "      <td>75.5811</td>\n",
       "      <td>Wind</td>\n",
       "      <td>NaN</td>\n",
       "      <td>NaN</td>\n",
       "      <td>...</td>\n",
       "      <td>WRI</td>\n",
       "      <td>NaN</td>\n",
       "      <td>NaN</td>\n",
       "      <td>NaN</td>\n",
       "      <td>NaN</td>\n",
       "      <td>NaN</td>\n",
       "      <td>NaN</td>\n",
       "      <td>NaN</td>\n",
       "      <td>NaN</td>\n",
       "      <td>NaN</td>\n",
       "    </tr>\n",
       "    <tr>\n",
       "      <th>906</th>\n",
       "      <td>IND</td>\n",
       "      <td>India</td>\n",
       "      <td>ZAWAR MINES</td>\n",
       "      <td>WRI1019901</td>\n",
       "      <td>80.0</td>\n",
       "      <td>24.3500</td>\n",
       "      <td>73.7477</td>\n",
       "      <td>Coal</td>\n",
       "      <td>NaN</td>\n",
       "      <td>NaN</td>\n",
       "      <td>...</td>\n",
       "      <td>WRI</td>\n",
       "      <td>NaN</td>\n",
       "      <td>NaN</td>\n",
       "      <td>NaN</td>\n",
       "      <td>NaN</td>\n",
       "      <td>NaN</td>\n",
       "      <td>NaN</td>\n",
       "      <td>NaN</td>\n",
       "      <td>NaN</td>\n",
       "      <td>NaN</td>\n",
       "    </tr>\n",
       "    <tr>\n",
       "      <th>907</th>\n",
       "      <td>IND</td>\n",
       "      <td>India</td>\n",
       "      <td>iEnergy Theni Wind Farm</td>\n",
       "      <td>WRI1026761</td>\n",
       "      <td>16.5</td>\n",
       "      <td>9.9344</td>\n",
       "      <td>77.4768</td>\n",
       "      <td>Wind</td>\n",
       "      <td>NaN</td>\n",
       "      <td>NaN</td>\n",
       "      <td>...</td>\n",
       "      <td>WRI</td>\n",
       "      <td>NaN</td>\n",
       "      <td>NaN</td>\n",
       "      <td>NaN</td>\n",
       "      <td>NaN</td>\n",
       "      <td>NaN</td>\n",
       "      <td>NaN</td>\n",
       "      <td>NaN</td>\n",
       "      <td>NaN</td>\n",
       "      <td>NaN</td>\n",
       "    </tr>\n",
       "  </tbody>\n",
       "</table>\n",
       "<p>908 rows × 25 columns</p>\n",
       "</div>"
      ],
      "text/plain": [
       "    country country_long                          name   gppd_idnr  \\\n",
       "0       IND        India              ACME Solar Tower  WRI1020239   \n",
       "1       IND        India           ADITYA CEMENT WORKS  WRI1019881   \n",
       "2       IND        India      AES Saurashtra Windfarms  WRI1026669   \n",
       "3       IND        India                   AGARTALA GT  IND0000001   \n",
       "4       IND        India                  AKALTARA TPP  IND0000002   \n",
       "..      ...          ...                           ...         ...   \n",
       "903     IND        India                  YERMARUS TPP  IND0000513   \n",
       "904     IND        India  Yelesandra Solar Power Plant  WRI1026222   \n",
       "905     IND        India  Yelisirur wind power project  WRI1026776   \n",
       "906     IND        India                   ZAWAR MINES  WRI1019901   \n",
       "907     IND        India       iEnergy Theni Wind Farm  WRI1026761   \n",
       "\n",
       "     capacity_mw  latitude  longitude primary_fuel other_fuel1 other_fuel2  \\\n",
       "0            2.5   28.1839    73.2407        Solar         NaN         NaN   \n",
       "1           98.0   24.7663    74.6090         Coal         NaN         NaN   \n",
       "2           39.2   21.9038    69.3732         Wind         NaN         NaN   \n",
       "3          135.0   23.8712    91.3602          Gas         NaN         NaN   \n",
       "4         1800.0   21.9603    82.4091         Coal         Oil         NaN   \n",
       "..           ...       ...        ...          ...         ...         ...   \n",
       "903       1600.0   16.2949    77.3568         Coal         Oil         NaN   \n",
       "904          3.0   12.8932    78.1654        Solar         NaN         NaN   \n",
       "905         25.5   15.2758    75.5811         Wind         NaN         NaN   \n",
       "906         80.0   24.3500    73.7477         Coal         NaN         NaN   \n",
       "907         16.5    9.9344    77.4768         Wind         NaN         NaN   \n",
       "\n",
       "     ...                    geolocation_source  wepp_id year_of_capacity_data  \\\n",
       "0    ...  National Renewable Energy Laboratory      NaN                   NaN   \n",
       "1    ...                                   WRI      NaN                   NaN   \n",
       "2    ...                                   WRI      NaN                   NaN   \n",
       "3    ...                                   WRI      NaN                2018.0   \n",
       "4    ...                                   WRI      NaN                2018.0   \n",
       "..   ...                                   ...      ...                   ...   \n",
       "903  ...                                   WRI      NaN                2018.0   \n",
       "904  ...                        Industry About      NaN                   NaN   \n",
       "905  ...                                   WRI      NaN                   NaN   \n",
       "906  ...                                   WRI      NaN                   NaN   \n",
       "907  ...                                   WRI      NaN                   NaN   \n",
       "\n",
       "    generation_gwh_2013 generation_gwh_2014 generation_gwh_2015  \\\n",
       "0                   NaN                 NaN                 NaN   \n",
       "1                   NaN                 NaN                 NaN   \n",
       "2                   NaN                 NaN                 NaN   \n",
       "3            631.777928          617.789264          843.747000   \n",
       "4           1668.290000         3035.550000         5916.370000   \n",
       "..                  ...                 ...                 ...   \n",
       "903                 NaN                 NaN            0.994875   \n",
       "904                 NaN                 NaN                 NaN   \n",
       "905                 NaN                 NaN                 NaN   \n",
       "906                 NaN                 NaN                 NaN   \n",
       "907                 NaN                 NaN                 NaN   \n",
       "\n",
       "     generation_gwh_2016  generation_gwh_2017         generation_data_source  \\\n",
       "0                    NaN                  NaN                            NaN   \n",
       "1                    NaN                  NaN                            NaN   \n",
       "2                    NaN                  NaN                            NaN   \n",
       "3             886.004428           663.774500  Central Electricity Authority   \n",
       "4            6243.000000          5385.579736  Central Electricity Authority   \n",
       "..                   ...                  ...                            ...   \n",
       "903           233.596650           865.400000  Central Electricity Authority   \n",
       "904                  NaN                  NaN                            NaN   \n",
       "905                  NaN                  NaN                            NaN   \n",
       "906                  NaN                  NaN                            NaN   \n",
       "907                  NaN                  NaN                            NaN   \n",
       "\n",
       "     estimated_generation_gwh  \n",
       "0                         NaN  \n",
       "1                         NaN  \n",
       "2                         NaN  \n",
       "3                         NaN  \n",
       "4                         NaN  \n",
       "..                        ...  \n",
       "903                       NaN  \n",
       "904                       NaN  \n",
       "905                       NaN  \n",
       "906                       NaN  \n",
       "907                       NaN  \n",
       "\n",
       "[908 rows x 25 columns]"
      ]
     },
     "execution_count": 53,
     "metadata": {},
     "output_type": "execute_result"
    }
   ],
   "source": [
    "df"
   ]
  },
  {
   "cell_type": "code",
   "execution_count": 54,
   "id": "d55ece44",
   "metadata": {},
   "outputs": [
    {
     "data": {
      "text/plain": [
       "(908, 25)"
      ]
     },
     "execution_count": 54,
     "metadata": {},
     "output_type": "execute_result"
    }
   ],
   "source": [
    "df.shape"
   ]
  },
  {
   "cell_type": "markdown",
   "id": "6edd86d4",
   "metadata": {},
   "source": [
    "The dataset has 908 rows and 25 columns"
   ]
  },
  {
   "cell_type": "code",
   "execution_count": 55,
   "id": "9745a304",
   "metadata": {},
   "outputs": [
    {
     "data": {
      "text/plain": [
       "country                      object\n",
       "country_long                 object\n",
       "name                         object\n",
       "gppd_idnr                    object\n",
       "capacity_mw                 float64\n",
       "latitude                    float64\n",
       "longitude                   float64\n",
       "primary_fuel                 object\n",
       "other_fuel1                  object\n",
       "other_fuel2                  object\n",
       "other_fuel3                 float64\n",
       "commissioning_year          float64\n",
       "owner                        object\n",
       "source                       object\n",
       "url                          object\n",
       "geolocation_source           object\n",
       "wepp_id                     float64\n",
       "year_of_capacity_data       float64\n",
       "generation_gwh_2013         float64\n",
       "generation_gwh_2014         float64\n",
       "generation_gwh_2015         float64\n",
       "generation_gwh_2016         float64\n",
       "generation_gwh_2017         float64\n",
       "generation_data_source       object\n",
       "estimated_generation_gwh    float64\n",
       "dtype: object"
      ]
     },
     "execution_count": 55,
     "metadata": {},
     "output_type": "execute_result"
    }
   ],
   "source": [
    "df.dtypes"
   ]
  },
  {
   "cell_type": "markdown",
   "id": "9b7e2859",
   "metadata": {},
   "source": [
    "Gives the data type of each column"
   ]
  },
  {
   "cell_type": "code",
   "execution_count": 57,
   "id": "89960a41",
   "metadata": {},
   "outputs": [
    {
     "data": {
      "text/plain": [
       "country                       0\n",
       "country_long                  0\n",
       "name                          0\n",
       "gppd_idnr                     0\n",
       "capacity_mw                   0\n",
       "latitude                      0\n",
       "longitude                     0\n",
       "primary_fuel                  0\n",
       "other_fuel1                   0\n",
       "other_fuel2                   0\n",
       "other_fuel3                 908\n",
       "commissioning_year            0\n",
       "owner                         0\n",
       "source                        0\n",
       "url                           0\n",
       "geolocation_source            0\n",
       "wepp_id                     908\n",
       "year_of_capacity_data         0\n",
       "generation_gwh_2013           0\n",
       "generation_gwh_2014           0\n",
       "generation_gwh_2015           0\n",
       "generation_gwh_2016           0\n",
       "generation_gwh_2017           0\n",
       "generation_data_source        0\n",
       "estimated_generation_gwh    908\n",
       "dtype: int64"
      ]
     },
     "execution_count": 57,
     "metadata": {},
     "output_type": "execute_result"
    }
   ],
   "source": [
    "df.isnull().sum()"
   ]
  },
  {
   "cell_type": "markdown",
   "id": "a3e00015",
   "metadata": {},
   "source": [
    "There are lot of null values in the dataset"
   ]
  },
  {
   "cell_type": "markdown",
   "id": "87839ab1",
   "metadata": {},
   "source": [
    "# Removing Null values"
   ]
  },
  {
   "cell_type": "code",
   "execution_count": 58,
   "id": "efed5b38",
   "metadata": {},
   "outputs": [],
   "source": [
    "df['latitude'].fillna(df['latitude'].value_counts().idxmax(), inplace=True)\n",
    "df['longitude'].fillna(df['longitude'].value_counts().idxmax(), inplace=True)\n",
    "df['other_fuel1'].fillna(df['latitude'].value_counts().idxmax(), inplace=True)\n",
    "df['other_fuel2'].fillna(df['other_fuel2'].value_counts().idxmax(), inplace=True)\n",
    "df['commissioning_year'].fillna(df['commissioning_year'].value_counts().idxmax(), inplace=True)\n",
    "df['owner'].fillna(df['owner'].value_counts().idxmax(), inplace=True)\n",
    "df['geolocation_source'].fillna(df['geolocation_source'].value_counts().idxmax(), inplace=True)\n",
    "df['year_of_capacity_data'].fillna(df['year_of_capacity_data'].value_counts().idxmax(), inplace=True)\n",
    "df['generation_gwh_2013'].fillna(df['generation_gwh_2013'].value_counts().idxmax(), inplace=True)\n",
    "df['generation_gwh_2014'].fillna(df['generation_gwh_2014'].value_counts().idxmax(), inplace=True)\n",
    "df['generation_gwh_2015'].fillna(df['generation_gwh_2015'].value_counts().idxmax(), inplace=True)\n",
    "df['generation_gwh_2016'].fillna(df['generation_gwh_2016'].value_counts().idxmax(), inplace=True)\n",
    "df['generation_gwh_2017'].fillna(df['generation_gwh_2017'].value_counts().idxmax(), inplace=True)\n",
    "df['generation_data_source'].fillna(df['generation_data_source'].value_counts().idxmax(), inplace=True)\n"
   ]
  },
  {
   "cell_type": "code",
   "execution_count": 59,
   "id": "a8bc117b",
   "metadata": {},
   "outputs": [
    {
     "data": {
      "text/plain": [
       "country                       0\n",
       "country_long                  0\n",
       "name                          0\n",
       "gppd_idnr                     0\n",
       "capacity_mw                   0\n",
       "latitude                      0\n",
       "longitude                     0\n",
       "primary_fuel                  0\n",
       "other_fuel1                   0\n",
       "other_fuel2                   0\n",
       "other_fuel3                 908\n",
       "commissioning_year            0\n",
       "owner                         0\n",
       "source                        0\n",
       "url                           0\n",
       "geolocation_source            0\n",
       "wepp_id                     908\n",
       "year_of_capacity_data         0\n",
       "generation_gwh_2013           0\n",
       "generation_gwh_2014           0\n",
       "generation_gwh_2015           0\n",
       "generation_gwh_2016           0\n",
       "generation_gwh_2017           0\n",
       "generation_data_source        0\n",
       "estimated_generation_gwh    908\n",
       "dtype: int64"
      ]
     },
     "execution_count": 59,
     "metadata": {},
     "output_type": "execute_result"
    }
   ],
   "source": [
    "df.isnull().sum()"
   ]
  },
  {
   "cell_type": "markdown",
   "id": "2f65c916",
   "metadata": {},
   "source": [
    "The null values are removed but the columns wepp_id,estimated_generation_gwh,other_fuel3 does not have an data."
   ]
  },
  {
   "cell_type": "markdown",
   "id": "0e377935",
   "metadata": {},
   "source": [
    "# Dropping the columns wepp_id,estimated_generation_gwh,other_fuel3 does not have an data."
   ]
  },
  {
   "cell_type": "code",
   "execution_count": 60,
   "id": "ed29e668",
   "metadata": {},
   "outputs": [],
   "source": [
    "df.drop(['other_fuel3','wepp_id','estimated_generation_gwh'],axis=1,inplace=True)"
   ]
  },
  {
   "cell_type": "code",
   "execution_count": 61,
   "id": "2f0ae9d9",
   "metadata": {},
   "outputs": [
    {
     "data": {
      "text/plain": [
       "(908, 22)"
      ]
     },
     "execution_count": 61,
     "metadata": {},
     "output_type": "execute_result"
    }
   ],
   "source": [
    "df.shape"
   ]
  },
  {
   "cell_type": "markdown",
   "id": "c8985b46",
   "metadata": {},
   "source": [
    "The dataset has 22 columns after dropping the columns"
   ]
  },
  {
   "cell_type": "code",
   "execution_count": 62,
   "id": "abf83c63",
   "metadata": {},
   "outputs": [
    {
     "data": {
      "text/plain": [
       "country                    object\n",
       "country_long               object\n",
       "name                       object\n",
       "gppd_idnr                  object\n",
       "capacity_mw               float64\n",
       "latitude                  float64\n",
       "longitude                 float64\n",
       "primary_fuel               object\n",
       "other_fuel1                object\n",
       "other_fuel2                object\n",
       "commissioning_year        float64\n",
       "owner                      object\n",
       "source                     object\n",
       "url                        object\n",
       "geolocation_source         object\n",
       "year_of_capacity_data     float64\n",
       "generation_gwh_2013       float64\n",
       "generation_gwh_2014       float64\n",
       "generation_gwh_2015       float64\n",
       "generation_gwh_2016       float64\n",
       "generation_gwh_2017       float64\n",
       "generation_data_source     object\n",
       "dtype: object"
      ]
     },
     "execution_count": 62,
     "metadata": {},
     "output_type": "execute_result"
    }
   ],
   "source": [
    "df.dtypes"
   ]
  },
  {
   "cell_type": "markdown",
   "id": "1457cb69",
   "metadata": {},
   "source": [
    "# Encoding the Object columns"
   ]
  },
  {
   "cell_type": "code",
   "execution_count": 63,
   "id": "31b9a98d",
   "metadata": {},
   "outputs": [],
   "source": [
    "le=LabelEncoder()\n",
    "df['country']=le.fit_transform(df['country'])\n",
    "df['country_long']=le.fit_transform(df['country_long'])\n",
    "df['name']=le.fit_transform(df['name'])\n",
    "df['gppd_idnr']=le.fit_transform(df['gppd_idnr'])\n",
    "df['primary_fuel']=le.fit_transform(df['primary_fuel'])\n",
    "\n",
    "df['other_fuel2']=le.fit_transform(df['other_fuel2'])\n",
    "\n",
    "df['owner']=le.fit_transform(df['owner'])\n",
    "\n",
    "df['source']=le.fit_transform(df['source'])\n",
    "df['url']=le.fit_transform(df['url'])\n",
    "df['geolocation_source']=le.fit_transform(df['geolocation_source'])\n",
    "df['generation_data_source']=le.fit_transform(df['generation_data_source'])"
   ]
  },
  {
   "cell_type": "code",
   "execution_count": 64,
   "id": "8837988e",
   "metadata": {},
   "outputs": [
    {
     "data": {
      "text/plain": [
       "country                     int32\n",
       "country_long                int32\n",
       "name                        int32\n",
       "gppd_idnr                   int32\n",
       "capacity_mw               float64\n",
       "latitude                  float64\n",
       "longitude                 float64\n",
       "primary_fuel                int32\n",
       "other_fuel1                object\n",
       "other_fuel2                 int32\n",
       "commissioning_year        float64\n",
       "owner                       int32\n",
       "source                      int32\n",
       "url                         int32\n",
       "geolocation_source          int32\n",
       "year_of_capacity_data     float64\n",
       "generation_gwh_2013       float64\n",
       "generation_gwh_2014       float64\n",
       "generation_gwh_2015       float64\n",
       "generation_gwh_2016       float64\n",
       "generation_gwh_2017       float64\n",
       "generation_data_source      int32\n",
       "dtype: object"
      ]
     },
     "execution_count": 64,
     "metadata": {},
     "output_type": "execute_result"
    }
   ],
   "source": [
    "df.dtypes"
   ]
  },
  {
   "cell_type": "markdown",
   "id": "7d6ef087",
   "metadata": {},
   "source": [
    "Columns after encoding the columns"
   ]
  },
  {
   "cell_type": "code",
   "execution_count": 65,
   "id": "15203246",
   "metadata": {},
   "outputs": [],
   "source": [
    "df.drop(['other_fuel1'],axis=1,inplace=True)"
   ]
  },
  {
   "cell_type": "markdown",
   "id": "1447424d",
   "metadata": {},
   "source": [
    "Dropping the column other_fuel1"
   ]
  },
  {
   "cell_type": "markdown",
   "id": "25d4d228",
   "metadata": {},
   "source": [
    "# Detecting Outliers"
   ]
  },
  {
   "cell_type": "code",
   "execution_count": 66,
   "id": "c9f06d99",
   "metadata": {},
   "outputs": [
    {
     "data": {
      "text/plain": [
       "country                       AxesSubplot(0.125,0.71587;0.110714x0.16413)\n",
       "country_long               AxesSubplot(0.257857,0.71587;0.110714x0.16413)\n",
       "name                       AxesSubplot(0.390714,0.71587;0.110714x0.16413)\n",
       "gppd_idnr                  AxesSubplot(0.523571,0.71587;0.110714x0.16413)\n",
       "capacity_mw                AxesSubplot(0.656429,0.71587;0.110714x0.16413)\n",
       "latitude                   AxesSubplot(0.789286,0.71587;0.110714x0.16413)\n",
       "longitude                    AxesSubplot(0.125,0.518913;0.110714x0.16413)\n",
       "primary_fuel              AxesSubplot(0.257857,0.518913;0.110714x0.16413)\n",
       "other_fuel2               AxesSubplot(0.390714,0.518913;0.110714x0.16413)\n",
       "commissioning_year        AxesSubplot(0.523571,0.518913;0.110714x0.16413)\n",
       "owner                     AxesSubplot(0.656429,0.518913;0.110714x0.16413)\n",
       "source                    AxesSubplot(0.789286,0.518913;0.110714x0.16413)\n",
       "url                          AxesSubplot(0.125,0.321957;0.110714x0.16413)\n",
       "geolocation_source        AxesSubplot(0.257857,0.321957;0.110714x0.16413)\n",
       "year_of_capacity_data     AxesSubplot(0.390714,0.321957;0.110714x0.16413)\n",
       "generation_gwh_2013       AxesSubplot(0.523571,0.321957;0.110714x0.16413)\n",
       "generation_gwh_2014       AxesSubplot(0.656429,0.321957;0.110714x0.16413)\n",
       "generation_gwh_2015       AxesSubplot(0.789286,0.321957;0.110714x0.16413)\n",
       "generation_gwh_2016             AxesSubplot(0.125,0.125;0.110714x0.16413)\n",
       "generation_gwh_2017          AxesSubplot(0.257857,0.125;0.110714x0.16413)\n",
       "generation_data_source       AxesSubplot(0.390714,0.125;0.110714x0.16413)\n",
       "dtype: object"
      ]
     },
     "execution_count": 66,
     "metadata": {},
     "output_type": "execute_result"
    },
    {
     "data": {
      "image/png": "[encoded data removed]",
      "text/plain": [
       "<Figure size 720x720 with 24 Axes>"
      ]
     },
     "metadata": {
      "needs_background": "light"
     },
     "output_type": "display_data"
    }
   ],
   "source": [
    "df.plot(kind='box',subplots=True,layout=(4,6),figsize=(10,10))"
   ]
  },
  {
   "cell_type": "markdown",
   "id": "d575eece",
   "metadata": {},
   "source": [
    "# Checking skewness"
   ]
  },
  {
   "cell_type": "code",
   "execution_count": 67,
   "id": "8b6a8f99",
   "metadata": {},
   "outputs": [
    {
     "data": {
      "text/plain": [
       "country                   0.000000\n",
       "country_long              0.000000\n",
       "name                      0.000000\n",
       "gppd_idnr                 0.000000\n",
       "capacity_mw               3.193257\n",
       "latitude                 -0.213428\n",
       "longitude                 1.118449\n",
       "primary_fuel              0.471141\n",
       "other_fuel2               0.000000\n",
       "commissioning_year       -1.779021\n",
       "owner                     1.020935\n",
       "source                    1.829145\n",
       "url                       1.512258\n",
       "geolocation_source       -2.161710\n",
       "year_of_capacity_data     0.000000\n",
       "generation_gwh_2013       5.158053\n",
       "generation_gwh_2014       4.989441\n",
       "generation_gwh_2015       5.264211\n",
       "generation_gwh_2016       4.988235\n",
       "generation_gwh_2017       4.983065\n",
       "generation_data_source    0.000000\n",
       "dtype: float64"
      ]
     },
     "execution_count": 67,
     "metadata": {},
     "output_type": "execute_result"
    }
   ],
   "source": [
    "df.skew()"
   ]
  },
  {
   "cell_type": "markdown",
   "id": "98e048d7",
   "metadata": {},
   "source": [
    "Most of the columns have skewness but not considering the outliers and skewness for object columns"
   ]
  },
  {
   "cell_type": "code",
   "execution_count": 68,
   "id": "d0234165",
   "metadata": {},
   "outputs": [],
   "source": [
    "df.drop(['country','country_long','name','gppd_idnr','year_of_capacity_data','generation_data_source'],axis=1,inplace=True)"
   ]
  },
  {
   "cell_type": "markdown",
   "id": "245f748e",
   "metadata": {},
   "source": [
    "Dropping the columns"
   ]
  },
  {
   "cell_type": "code",
   "execution_count": 69,
   "id": "99bc4044",
   "metadata": {},
   "outputs": [
    {
     "data": {
      "text/plain": [
       "(908, 15)"
      ]
     },
     "execution_count": 69,
     "metadata": {},
     "output_type": "execute_result"
    }
   ],
   "source": [
    "df.shape"
   ]
  },
  {
   "cell_type": "markdown",
   "id": "9e6f8d8e",
   "metadata": {},
   "source": [
    "# Checking Collinearity"
   ]
  },
  {
   "cell_type": "code",
   "execution_count": 70,
   "id": "255bd471",
   "metadata": {},
   "outputs": [
    {
     "data": {
      "text/plain": [
       "<AxesSubplot:>"
      ]
     },
     "execution_count": 70,
     "metadata": {},
     "output_type": "execute_result"
    },
    {
     "data": {
      "image/png": "[encoded data removed]",
      "text/plain": [
       "<Figure size 432x288 with 2 Axes>"
      ]
     },
     "metadata": {
      "needs_background": "light"
     },
     "output_type": "display_data"
    }
   ],
   "source": [
    "sns.heatmap(df.corr(),annot=True)"
   ]
  },
  {
   "cell_type": "code",
   "execution_count": 22,
   "id": "3ea0e4b9",
   "metadata": {},
   "outputs": [
    {
     "data": {
      "text/plain": [
       "<function matplotlib.pyplot.show(close=None, block=None)>"
      ]
     },
     "execution_count": 22,
     "metadata": {},
     "output_type": "execute_result"
    },
    {
     "data": {
      "image/png": "[encoded data removed]",
      "text/plain": [
       "<Figure size 1584x504 with 1 Axes>"
      ]
     },
     "metadata": {
      "needs_background": "light"
     },
     "output_type": "display_data"
    }
   ],
   "source": [
    "plt.figure(figsize=(22,7))\n",
    "df.corr()['primary_fuel'].sort_values(ascending=False).drop(['primary_fuel']).plot(kind='bar',color='c')\n",
    "plt.xlabel('Feature',fontsize=14)\n",
    "plt.ylabel('column with target names',fontsize=14)\n",
    "plt.title('correlation',fontsize=18)\n",
    "plt.show"
   ]
  },
  {
   "cell_type": "markdown",
   "id": "1f485786",
   "metadata": {},
   "source": [
    "The heatmap shows that the lighter shades are highly correlated and the graph shows positively and negatively related columns to the target variable primary_fuel "
   ]
  },
  {
   "cell_type": "markdown",
   "id": "7a9514eb",
   "metadata": {},
   "source": [
    "# Splitting the input and target variable"
   ]
  },
  {
   "cell_type": "code",
   "execution_count": 71,
   "id": "84111f83",
   "metadata": {},
   "outputs": [],
   "source": [
    "x=df.drop(['primary_fuel'],axis=1)\n",
    "y=df['primary_fuel']"
   ]
  },
  {
   "cell_type": "code",
   "execution_count": 72,
   "id": "7817587c",
   "metadata": {},
   "outputs": [],
   "source": [
    "def calc_vif(x):\n",
    "    vif=pd.DataFrame()\n",
    "    vif[\"variables\"]=x.columns\n",
    "    vif[\"VIF FACTOR\"]=[variance_inflation_factor(x.values,i) for i in range(x.shape[1])]\n",
    "    return (vif)"
   ]
  },
  {
   "cell_type": "code",
   "execution_count": 73,
   "id": "52f06b9a",
   "metadata": {},
   "outputs": [
    {
     "data": {
      "text/html": [
       "<div>\n",
       "<style scoped>\n",
       "    .dataframe tbody tr th:only-of-type {\n",
       "        vertical-align: middle;\n",
       "    }\n",
       "\n",
       "    .dataframe tbody tr th {\n",
       "        vertical-align: top;\n",
       "    }\n",
       "\n",
       "    .dataframe thead th {\n",
       "        text-align: right;\n",
       "    }\n",
       "</style>\n",
       "<table border=\"1\" class=\"dataframe\">\n",
       "  <thead>\n",
       "    <tr style=\"text-align: right;\">\n",
       "      <th></th>\n",
       "      <th>variables</th>\n",
       "      <th>VIF FACTOR</th>\n",
       "    </tr>\n",
       "  </thead>\n",
       "  <tbody>\n",
       "    <tr>\n",
       "      <th>0</th>\n",
       "      <td>capacity_mw</td>\n",
       "      <td>7.547611</td>\n",
       "    </tr>\n",
       "    <tr>\n",
       "      <th>1</th>\n",
       "      <td>latitude</td>\n",
       "      <td>14.004679</td>\n",
       "    </tr>\n",
       "    <tr>\n",
       "      <th>2</th>\n",
       "      <td>longitude</td>\n",
       "      <td>292.506065</td>\n",
       "    </tr>\n",
       "    <tr>\n",
       "      <th>3</th>\n",
       "      <td>other_fuel2</td>\n",
       "      <td>NaN</td>\n",
       "    </tr>\n",
       "    <tr>\n",
       "      <th>4</th>\n",
       "      <td>commissioning_year</td>\n",
       "      <td>326.012856</td>\n",
       "    </tr>\n",
       "    <tr>\n",
       "      <th>5</th>\n",
       "      <td>owner</td>\n",
       "      <td>11.753970</td>\n",
       "    </tr>\n",
       "    <tr>\n",
       "      <th>6</th>\n",
       "      <td>source</td>\n",
       "      <td>4.662795</td>\n",
       "    </tr>\n",
       "    <tr>\n",
       "      <th>7</th>\n",
       "      <td>url</td>\n",
       "      <td>3.682472</td>\n",
       "    </tr>\n",
       "    <tr>\n",
       "      <th>8</th>\n",
       "      <td>geolocation_source</td>\n",
       "      <td>11.597301</td>\n",
       "    </tr>\n",
       "    <tr>\n",
       "      <th>9</th>\n",
       "      <td>generation_gwh_2013</td>\n",
       "      <td>29.045752</td>\n",
       "    </tr>\n",
       "    <tr>\n",
       "      <th>10</th>\n",
       "      <td>generation_gwh_2014</td>\n",
       "      <td>74.169267</td>\n",
       "    </tr>\n",
       "    <tr>\n",
       "      <th>11</th>\n",
       "      <td>generation_gwh_2015</td>\n",
       "      <td>48.447371</td>\n",
       "    </tr>\n",
       "    <tr>\n",
       "      <th>12</th>\n",
       "      <td>generation_gwh_2016</td>\n",
       "      <td>56.896720</td>\n",
       "    </tr>\n",
       "    <tr>\n",
       "      <th>13</th>\n",
       "      <td>generation_gwh_2017</td>\n",
       "      <td>30.703388</td>\n",
       "    </tr>\n",
       "  </tbody>\n",
       "</table>\n",
       "</div>"
      ],
      "text/plain": [
       "              variables  VIF FACTOR\n",
       "0           capacity_mw    7.547611\n",
       "1              latitude   14.004679\n",
       "2             longitude  292.506065\n",
       "3           other_fuel2         NaN\n",
       "4    commissioning_year  326.012856\n",
       "5                 owner   11.753970\n",
       "6                source    4.662795\n",
       "7                   url    3.682472\n",
       "8    geolocation_source   11.597301\n",
       "9   generation_gwh_2013   29.045752\n",
       "10  generation_gwh_2014   74.169267\n",
       "11  generation_gwh_2015   48.447371\n",
       "12  generation_gwh_2016   56.896720\n",
       "13  generation_gwh_2017   30.703388"
      ]
     },
     "execution_count": 73,
     "metadata": {},
     "output_type": "execute_result"
    }
   ],
   "source": [
    "calc_vif(x)"
   ]
  },
  {
   "cell_type": "code",
   "execution_count": 74,
   "id": "1a2bc2df",
   "metadata": {},
   "outputs": [],
   "source": [
    "x=df.drop(['commissioning_year'],axis=1)"
   ]
  },
  {
   "cell_type": "code",
   "execution_count": 75,
   "id": "c2f7c69f",
   "metadata": {},
   "outputs": [
    {
     "data": {
      "text/html": [
       "<div>\n",
       "<style scoped>\n",
       "    .dataframe tbody tr th:only-of-type {\n",
       "        vertical-align: middle;\n",
       "    }\n",
       "\n",
       "    .dataframe tbody tr th {\n",
       "        vertical-align: top;\n",
       "    }\n",
       "\n",
       "    .dataframe thead th {\n",
       "        text-align: right;\n",
       "    }\n",
       "</style>\n",
       "<table border=\"1\" class=\"dataframe\">\n",
       "  <thead>\n",
       "    <tr style=\"text-align: right;\">\n",
       "      <th></th>\n",
       "      <th>variables</th>\n",
       "      <th>VIF FACTOR</th>\n",
       "    </tr>\n",
       "  </thead>\n",
       "  <tbody>\n",
       "    <tr>\n",
       "      <th>0</th>\n",
       "      <td>capacity_mw</td>\n",
       "      <td>7.715674</td>\n",
       "    </tr>\n",
       "    <tr>\n",
       "      <th>1</th>\n",
       "      <td>latitude</td>\n",
       "      <td>13.282369</td>\n",
       "    </tr>\n",
       "    <tr>\n",
       "      <th>2</th>\n",
       "      <td>longitude</td>\n",
       "      <td>47.393212</td>\n",
       "    </tr>\n",
       "    <tr>\n",
       "      <th>3</th>\n",
       "      <td>primary_fuel</td>\n",
       "      <td>9.391791</td>\n",
       "    </tr>\n",
       "    <tr>\n",
       "      <th>4</th>\n",
       "      <td>other_fuel2</td>\n",
       "      <td>NaN</td>\n",
       "    </tr>\n",
       "    <tr>\n",
       "      <th>5</th>\n",
       "      <td>owner</td>\n",
       "      <td>12.488338</td>\n",
       "    </tr>\n",
       "    <tr>\n",
       "      <th>6</th>\n",
       "      <td>source</td>\n",
       "      <td>6.107281</td>\n",
       "    </tr>\n",
       "    <tr>\n",
       "      <th>7</th>\n",
       "      <td>url</td>\n",
       "      <td>6.533781</td>\n",
       "    </tr>\n",
       "    <tr>\n",
       "      <th>8</th>\n",
       "      <td>geolocation_source</td>\n",
       "      <td>21.462912</td>\n",
       "    </tr>\n",
       "    <tr>\n",
       "      <th>9</th>\n",
       "      <td>generation_gwh_2013</td>\n",
       "      <td>28.992900</td>\n",
       "    </tr>\n",
       "    <tr>\n",
       "      <th>10</th>\n",
       "      <td>generation_gwh_2014</td>\n",
       "      <td>74.035069</td>\n",
       "    </tr>\n",
       "    <tr>\n",
       "      <th>11</th>\n",
       "      <td>generation_gwh_2015</td>\n",
       "      <td>48.447009</td>\n",
       "    </tr>\n",
       "    <tr>\n",
       "      <th>12</th>\n",
       "      <td>generation_gwh_2016</td>\n",
       "      <td>56.904487</td>\n",
       "    </tr>\n",
       "    <tr>\n",
       "      <th>13</th>\n",
       "      <td>generation_gwh_2017</td>\n",
       "      <td>30.462801</td>\n",
       "    </tr>\n",
       "  </tbody>\n",
       "</table>\n",
       "</div>"
      ],
      "text/plain": [
       "              variables  VIF FACTOR\n",
       "0           capacity_mw    7.715674\n",
       "1              latitude   13.282369\n",
       "2             longitude   47.393212\n",
       "3          primary_fuel    9.391791\n",
       "4           other_fuel2         NaN\n",
       "5                 owner   12.488338\n",
       "6                source    6.107281\n",
       "7                   url    6.533781\n",
       "8    geolocation_source   21.462912\n",
       "9   generation_gwh_2013   28.992900\n",
       "10  generation_gwh_2014   74.035069\n",
       "11  generation_gwh_2015   48.447009\n",
       "12  generation_gwh_2016   56.904487\n",
       "13  generation_gwh_2017   30.462801"
      ]
     },
     "execution_count": 75,
     "metadata": {},
     "output_type": "execute_result"
    }
   ],
   "source": [
    "calc_vif(x)"
   ]
  },
  {
   "cell_type": "markdown",
   "id": "75a450e8",
   "metadata": {},
   "source": [
    "# Using power_transform method to remove skewness"
   ]
  },
  {
   "cell_type": "code",
   "execution_count": 76,
   "id": "4c606039",
   "metadata": {},
   "outputs": [],
   "source": [
    "from sklearn.preprocessing import power_transform\n",
    "x=power_transform(x,method='yeo-johnson')"
   ]
  },
  {
   "cell_type": "markdown",
   "id": "c4eb99ba",
   "metadata": {},
   "source": [
    "# Scaling the input variable"
   ]
  },
  {
   "cell_type": "code",
   "execution_count": 77,
   "id": "027229dc",
   "metadata": {},
   "outputs": [],
   "source": [
    "from sklearn.preprocessing import StandardScaler\n",
    "sc=StandardScaler()\n",
    "x=sc.fit_transform(x)"
   ]
  },
  {
   "cell_type": "code",
   "execution_count": 78,
   "id": "e74efdc5",
   "metadata": {},
   "outputs": [],
   "source": [
    "from sklearn.linear_model import LinearRegression\n",
    "lr=LinearRegression()\n",
    "from sklearn.metrics import r2_score\n",
    "from sklearn.model_selection import train_test_split\n",
    "from sklearn.model_selection import train_test_split\n",
    "X_train,X_test,y_train,y_test=train_test_split(x,y,test_size=0.2,random_state=42)\n"
   ]
  },
  {
   "cell_type": "code",
   "execution_count": 79,
   "id": "fa3017da",
   "metadata": {},
   "outputs": [],
   "source": [
    "from sklearn.linear_model import LinearRegression\n",
    "lr=LinearRegression()\n",
    "lr.fit(X_train,y_train)\n",
    "pred=lr.predict(X_test)"
   ]
  },
  {
   "cell_type": "code",
   "execution_count": 80,
   "id": "30350302",
   "metadata": {},
   "outputs": [
    {
     "name": "stdout",
     "output_type": "stream",
     "text": [
      "At random state 0,the training accuracy is:- 0.9794001923111936\n",
      "At random state 0,the testing accuracy is:- 0.9761118156451248\n",
      "\n",
      "\n",
      "At random state 1,the training accuracy is:- 0.9798812516293165\n",
      "At random state 1,the testing accuracy is:- 0.9707858998377491\n",
      "\n",
      "\n",
      "At random state 2,the training accuracy is:- 0.9796805646462445\n",
      "At random state 2,the testing accuracy is:- 0.9720662239966773\n",
      "\n",
      "\n",
      "At random state 3,the training accuracy is:- 0.9796983806090216\n",
      "At random state 3,the testing accuracy is:- 0.9696780857756823\n",
      "\n",
      "\n",
      "At random state 4,the training accuracy is:- 0.9786211534401543\n",
      "At random state 4,the testing accuracy is:- 0.9835313107574075\n",
      "\n",
      "\n",
      "At random state 5,the training accuracy is:- 0.978789190410352\n",
      "At random state 5,the testing accuracy is:- 0.9815697779433235\n",
      "\n",
      "\n",
      "At random state 6,the training accuracy is:- 0.9793422231848702\n",
      "At random state 6,the testing accuracy is:- 0.9768355774867302\n",
      "\n",
      "\n",
      "At random state 7,the training accuracy is:- 0.9791302456925823\n",
      "At random state 7,the testing accuracy is:- 0.9785383972135593\n",
      "\n",
      "\n",
      "At random state 8,the training accuracy is:- 0.9799045306230166\n",
      "At random state 8,the testing accuracy is:- 0.9723040827836527\n",
      "\n",
      "\n",
      "At random state 9,the training accuracy is:- 0.9783838487962608\n",
      "At random state 9,the testing accuracy is:- 0.9852166020787577\n",
      "\n",
      "\n",
      "At random state 10,the training accuracy is:- 0.979191592769326\n",
      "At random state 10,the testing accuracy is:- 0.9784251171068641\n",
      "\n",
      "\n",
      "At random state 11,the training accuracy is:- 0.9790988842695315\n",
      "At random state 11,the testing accuracy is:- 0.9791619948751075\n",
      "\n",
      "\n",
      "At random state 12,the training accuracy is:- 0.9790173515145958\n",
      "At random state 12,the testing accuracy is:- 0.9799881263981648\n",
      "\n",
      "\n",
      "At random state 13,the training accuracy is:- 0.979090150927186\n",
      "At random state 13,the testing accuracy is:- 0.977943121189585\n",
      "\n",
      "\n",
      "At random state 14,the training accuracy is:- 0.9797942226826604\n",
      "At random state 14,the testing accuracy is:- 0.9718807778412465\n",
      "\n",
      "\n",
      "At random state 15,the training accuracy is:- 0.979454735950725\n",
      "At random state 15,the testing accuracy is:- 0.9759975958989464\n",
      "\n",
      "\n",
      "At random state 16,the training accuracy is:- 0.9787331692947772\n",
      "At random state 16,the testing accuracy is:- 0.9829664870353801\n",
      "\n",
      "\n",
      "At random state 17,the training accuracy is:- 0.9787683504034072\n",
      "At random state 17,the testing accuracy is:- 0.9813199018601902\n",
      "\n",
      "\n",
      "At random state 18,the training accuracy is:- 0.9790638620101364\n",
      "At random state 18,the testing accuracy is:- 0.9794712637539108\n",
      "\n",
      "\n",
      "At random state 19,the training accuracy is:- 0.9797881996678356\n",
      "At random state 19,the testing accuracy is:- 0.9722866736318319\n",
      "\n",
      "\n",
      "At random state 20,the training accuracy is:- 0.9787993260850061\n",
      "At random state 20,the testing accuracy is:- 0.9818294854868012\n",
      "\n",
      "\n",
      "At random state 21,the training accuracy is:- 0.9793316406591912\n",
      "At random state 21,the testing accuracy is:- 0.9768980845617158\n",
      "\n",
      "\n",
      "At random state 22,the training accuracy is:- 0.9785343528519226\n",
      "At random state 22,the testing accuracy is:- 0.9835770176314463\n",
      "\n",
      "\n",
      "At random state 23,the training accuracy is:- 0.9795137518824986\n",
      "At random state 23,the testing accuracy is:- 0.9753237636906492\n",
      "\n",
      "\n",
      "At random state 24,the training accuracy is:- 0.9790817323731308\n",
      "At random state 24,the testing accuracy is:- 0.9791473739720576\n",
      "\n",
      "\n",
      "At random state 25,the training accuracy is:- 0.978883436189363\n",
      "At random state 25,the testing accuracy is:- 0.9808179896981257\n",
      "\n",
      "\n",
      "At random state 26,the training accuracy is:- 0.9790022456791534\n",
      "At random state 26,the testing accuracy is:- 0.9800306012635709\n",
      "\n",
      "\n",
      "At random state 27,the training accuracy is:- 0.9796448369160161\n",
      "At random state 27,the testing accuracy is:- 0.9737570430878305\n",
      "\n",
      "\n",
      "At random state 28,the training accuracy is:- 0.9788817654364672\n",
      "At random state 28,the testing accuracy is:- 0.9811366310234012\n",
      "\n",
      "\n",
      "At random state 29,the training accuracy is:- 0.9789479363253121\n",
      "At random state 29,the testing accuracy is:- 0.9800985860727158\n",
      "\n",
      "\n",
      "At random state 30,the training accuracy is:- 0.9787774919835776\n",
      "At random state 30,the testing accuracy is:- 0.9821344533154803\n",
      "\n",
      "\n",
      "At random state 31,the training accuracy is:- 0.9795517272868232\n",
      "At random state 31,the testing accuracy is:- 0.9749036464508548\n",
      "\n",
      "\n",
      "At random state 32,the training accuracy is:- 0.9793461543191402\n",
      "At random state 32,the testing accuracy is:- 0.9762486149089962\n",
      "\n",
      "\n",
      "At random state 33,the training accuracy is:- 0.9792909792200033\n",
      "At random state 33,the testing accuracy is:- 0.9778437230679325\n",
      "\n",
      "\n",
      "At random state 34,the training accuracy is:- 0.9788326528898279\n",
      "At random state 34,the testing accuracy is:- 0.9818969330044516\n",
      "\n",
      "\n",
      "At random state 35,the training accuracy is:- 0.978962021724019\n",
      "At random state 35,the testing accuracy is:- 0.9798328694214165\n",
      "\n",
      "\n",
      "At random state 36,the training accuracy is:- 0.9791814316527649\n",
      "At random state 36,the testing accuracy is:- 0.9783399965982187\n",
      "\n",
      "\n",
      "At random state 37,the training accuracy is:- 0.9793302022285696\n",
      "At random state 37,the testing accuracy is:- 0.9773563747797389\n",
      "\n",
      "\n",
      "At random state 38,the training accuracy is:- 0.9798497093360166\n",
      "At random state 38,the testing accuracy is:- 0.970793923683404\n",
      "\n",
      "\n",
      "At random state 39,the training accuracy is:- 0.9792752120187961\n",
      "At random state 39,the testing accuracy is:- 0.9774904600018487\n",
      "\n",
      "\n",
      "At random state 40,the training accuracy is:- 0.9794067271271617\n",
      "At random state 40,the testing accuracy is:- 0.9752684249456497\n",
      "\n",
      "\n",
      "At random state 41,the training accuracy is:- 0.9789280876910771\n",
      "At random state 41,the testing accuracy is:- 0.9805134602616437\n",
      "\n",
      "\n",
      "At random state 42,the training accuracy is:- 0.9789848266612101\n",
      "At random state 42,the testing accuracy is:- 0.9801933525314912\n",
      "\n",
      "\n",
      "At random state 43,the training accuracy is:- 0.9786940427559976\n",
      "At random state 43,the testing accuracy is:- 0.9814788450534508\n",
      "\n",
      "\n",
      "At random state 44,the training accuracy is:- 0.9793102670316854\n",
      "At random state 44,the testing accuracy is:- 0.9772289536277114\n",
      "\n",
      "\n",
      "At random state 45,the training accuracy is:- 0.9786600356310662\n",
      "At random state 45,the testing accuracy is:- 0.9828252883239855\n",
      "\n",
      "\n",
      "At random state 46,the training accuracy is:- 0.9794365557036322\n",
      "At random state 46,the testing accuracy is:- 0.9760095946367426\n",
      "\n",
      "\n",
      "At random state 47,the training accuracy is:- 0.9793704352462946\n",
      "At random state 47,the testing accuracy is:- 0.9757902290226191\n",
      "\n",
      "\n",
      "At random state 48,the training accuracy is:- 0.9796155189998189\n",
      "At random state 48,the testing accuracy is:- 0.9741486144953359\n",
      "\n",
      "\n",
      "At random state 49,the training accuracy is:- 0.9794849685362499\n",
      "At random state 49,the testing accuracy is:- 0.9736844006554904\n",
      "\n",
      "\n",
      "At random state 50,the training accuracy is:- 0.9791581868803403\n",
      "At random state 50,the testing accuracy is:- 0.9785987668350438\n",
      "\n",
      "\n",
      "At random state 51,the training accuracy is:- 0.9784871430819257\n",
      "At random state 51,the testing accuracy is:- 0.9843333820918765\n",
      "\n",
      "\n",
      "At random state 52,the training accuracy is:- 0.9792112096484941\n",
      "At random state 52,the testing accuracy is:- 0.9780472851758942\n",
      "\n",
      "\n",
      "At random state 53,the training accuracy is:- 0.9789527902219771\n",
      "At random state 53,the testing accuracy is:- 0.9804671230792096\n",
      "\n",
      "\n",
      "At random state 54,the training accuracy is:- 0.9791676706578945\n",
      "At random state 54,the testing accuracy is:- 0.9785903166617812\n",
      "\n",
      "\n",
      "At random state 55,the training accuracy is:- 0.9790433843814619\n",
      "At random state 55,the testing accuracy is:- 0.9796368472211867\n",
      "\n",
      "\n",
      "At random state 56,the training accuracy is:- 0.9793762938370212\n",
      "At random state 56,the testing accuracy is:- 0.9768077524391089\n",
      "\n",
      "\n",
      "At random state 57,the training accuracy is:- 0.9790967898019268\n",
      "At random state 57,the testing accuracy is:- 0.9791563949732903\n",
      "\n",
      "\n",
      "At random state 58,the training accuracy is:- 0.9783995137980497\n",
      "At random state 58,the testing accuracy is:- 0.9842888385285073\n",
      "\n",
      "\n",
      "At random state 59,the training accuracy is:- 0.9785441409826156\n",
      "At random state 59,the testing accuracy is:- 0.9828075815728942\n",
      "\n",
      "\n",
      "At random state 60,the training accuracy is:- 0.9791573230300902\n",
      "At random state 60,the testing accuracy is:- 0.978361701445328\n",
      "\n",
      "\n",
      "At random state 61,the training accuracy is:- 0.9795137512526764\n",
      "At random state 61,the testing accuracy is:- 0.9746877390871196\n",
      "\n",
      "\n",
      "At random state 62,the training accuracy is:- 0.9792584408675822\n",
      "At random state 62,the testing accuracy is:- 0.9775952468525917\n",
      "\n",
      "\n",
      "At random state 63,the training accuracy is:- 0.9785426565911588\n",
      "At random state 63,the testing accuracy is:- 0.982802924134009\n",
      "\n",
      "\n",
      "At random state 64,the training accuracy is:- 0.9789704666897555\n",
      "At random state 64,the testing accuracy is:- 0.9801508996850651\n",
      "\n",
      "\n",
      "At random state 65,the training accuracy is:- 0.9790967516141619\n",
      "At random state 65,the testing accuracy is:- 0.9785127129706437\n",
      "\n",
      "\n",
      "At random state 66,the training accuracy is:- 0.9788238049949894\n",
      "At random state 66,the testing accuracy is:- 0.9816712141588149\n",
      "\n",
      "\n",
      "At random state 67,the training accuracy is:- 0.9789562843145264\n",
      "At random state 67,the testing accuracy is:- 0.9800705743760448\n",
      "\n",
      "\n",
      "At random state 68,the training accuracy is:- 0.9786258300749824\n",
      "At random state 68,the testing accuracy is:- 0.9836243645531585\n",
      "\n",
      "\n",
      "At random state 69,the training accuracy is:- 0.978796636702133\n",
      "At random state 69,the testing accuracy is:- 0.9815172650496207\n",
      "\n",
      "\n",
      "At random state 70,the training accuracy is:- 0.9787127367392807\n",
      "At random state 70,the testing accuracy is:- 0.983114482656039\n",
      "\n",
      "\n",
      "At random state 71,the training accuracy is:- 0.9796289464274542\n",
      "At random state 71,the testing accuracy is:- 0.9728421559579402\n",
      "\n",
      "\n",
      "At random state 72,the training accuracy is:- 0.9795193830055555\n",
      "At random state 72,the testing accuracy is:- 0.9750776485773465\n",
      "\n",
      "\n",
      "At random state 73,the training accuracy is:- 0.9790809627923033\n",
      "At random state 73,the testing accuracy is:- 0.9791704587337886\n",
      "\n",
      "\n",
      "At random state 74,the training accuracy is:- 0.9794288604393784\n",
      "At random state 74,the testing accuracy is:- 0.9750010704172022\n",
      "\n",
      "\n",
      "At random state 75,the training accuracy is:- 0.9794993434721534\n",
      "At random state 75,the testing accuracy is:- 0.9757007046488668\n",
      "\n",
      "\n",
      "At random state 76,the training accuracy is:- 0.9787815637248527\n",
      "At random state 76,the testing accuracy is:- 0.9815089598904213\n",
      "\n",
      "\n",
      "At random state 77,the training accuracy is:- 0.9793825024074763\n",
      "At random state 77,the testing accuracy is:- 0.9768258702108018\n",
      "\n",
      "\n",
      "At random state 78,the training accuracy is:- 0.9791549734343854\n",
      "At random state 78,the testing accuracy is:- 0.9787930307673552\n",
      "\n",
      "\n",
      "At random state 79,the training accuracy is:- 0.9788833447519208\n",
      "At random state 79,the testing accuracy is:- 0.9813912077196417\n",
      "\n",
      "\n",
      "At random state 80,the training accuracy is:- 0.979090846331285\n",
      "At random state 80,the testing accuracy is:- 0.9794597763004231\n",
      "\n",
      "\n",
      "At random state 81,the training accuracy is:- 0.9787593055773405\n",
      "At random state 81,the testing accuracy is:- 0.9812476742391976\n",
      "\n",
      "\n",
      "At random state 82,the training accuracy is:- 0.9788385747654973\n",
      "At random state 82,the testing accuracy is:- 0.9812578705181929\n",
      "\n",
      "\n",
      "At random state 83,the training accuracy is:- 0.9789343369135335\n",
      "At random state 83,the testing accuracy is:- 0.9799577831235302\n",
      "\n",
      "\n",
      "At random state 84,the training accuracy is:- 0.9796351932735842\n",
      "At random state 84,the testing accuracy is:- 0.9734416587438364\n",
      "\n",
      "\n",
      "At random state 85,the training accuracy is:- 0.9788454372223009\n",
      "At random state 85,the testing accuracy is:- 0.9816189460691312\n",
      "\n",
      "\n",
      "At random state 86,the training accuracy is:- 0.9796421275808834\n",
      "At random state 86,the testing accuracy is:- 0.9742434112481719\n",
      "\n",
      "\n",
      "At random state 87,the training accuracy is:- 0.9791218271857084\n",
      "At random state 87,the testing accuracy is:- 0.9786207650757855\n",
      "\n",
      "\n",
      "At random state 88,the training accuracy is:- 0.9793135808460284\n",
      "At random state 88,the testing accuracy is:- 0.9771913282594562\n",
      "\n",
      "\n",
      "At random state 89,the training accuracy is:- 0.9786944129568396\n",
      "At random state 89,the testing accuracy is:- 0.9823930235331761\n",
      "\n",
      "\n",
      "At random state 90,the training accuracy is:- 0.9794541800363464\n",
      "At random state 90,the testing accuracy is:- 0.9757674535191606\n",
      "\n",
      "\n",
      "At random state 91,the training accuracy is:- 0.9796721676270087\n",
      "At random state 91,the testing accuracy is:- 0.9733177634244429\n",
      "\n",
      "\n",
      "At random state 92,the training accuracy is:- 0.9797485534593443\n",
      "At random state 92,the testing accuracy is:- 0.9735479007932141\n",
      "\n",
      "\n",
      "At random state 93,the training accuracy is:- 0.9792217452685114\n",
      "At random state 93,the testing accuracy is:- 0.9781575177686821\n",
      "\n",
      "\n",
      "At random state 94,the training accuracy is:- 0.979486926351979\n",
      "At random state 94,the testing accuracy is:- 0.9743875879743006\n",
      "\n",
      "\n",
      "At random state 95,the training accuracy is:- 0.9789633389354316\n",
      "At random state 95,the testing accuracy is:- 0.9800360015781939\n",
      "\n",
      "\n",
      "At random state 96,the training accuracy is:- 0.9792511452630518\n",
      "At random state 96,the testing accuracy is:- 0.9776527796582425\n",
      "\n",
      "\n",
      "At random state 97,the training accuracy is:- 0.9794790888850345\n",
      "At random state 97,the testing accuracy is:- 0.9755854882497674\n",
      "\n",
      "\n",
      "At random state 98,the training accuracy is:- 0.9792772200881305\n",
      "At random state 98,the testing accuracy is:- 0.9774315530730472\n",
      "\n",
      "\n",
      "At random state 99,the training accuracy is:- 0.9793476118845553\n",
      "At random state 99,the testing accuracy is:- 0.9768732997889067\n",
      "\n",
      "\n"
     ]
    }
   ],
   "source": [
    "for i in range(0,100):\n",
    "    x_train,x_test,y_train,y_test=train_test_split(x,y,test_size=0.1,random_state=i)\n",
    "    lr.fit(x_train,y_train)\n",
    "    pred_train=lr.predict(x_train)\n",
    "    pred_test=lr.predict(x_test)\n",
    "    print(f\"At random state {i},the training accuracy is:- {r2_score(y_train,pred_train)}\")\n",
    "    print(f\"At random state {i},the testing accuracy is:- {r2_score(y_test,pred_test)}\")\n",
    "    print(\"\\n\")"
   ]
  },
  {
   "cell_type": "code",
   "execution_count": 81,
   "id": "3e024e51",
   "metadata": {},
   "outputs": [],
   "source": [
    "x_train,x_test,y_train,y_test=train_test_split(x,y,test_size=.2,random_state=99)"
   ]
  },
  {
   "cell_type": "markdown",
   "id": "d54f0f67",
   "metadata": {},
   "source": [
    "# LinearRegression"
   ]
  },
  {
   "cell_type": "code",
   "execution_count": 82,
   "id": "7930df2f",
   "metadata": {},
   "outputs": [
    {
     "data": {
      "text/plain": [
       "LinearRegression()"
      ]
     },
     "execution_count": 82,
     "metadata": {},
     "output_type": "execute_result"
    }
   ],
   "source": [
    "lr.fit(x_train,y_train)"
   ]
  },
  {
   "cell_type": "code",
   "execution_count": 83,
   "id": "32cfd499",
   "metadata": {},
   "outputs": [],
   "source": [
    "pred_test=lr.predict(x_test)"
   ]
  },
  {
   "cell_type": "code",
   "execution_count": 84,
   "id": "36b153b7",
   "metadata": {},
   "outputs": [
    {
     "data": {
      "text/plain": [
       "array([ 3.51637636,  3.0448538 ,  0.8172046 ,  3.53852066,  3.00275646,\n",
       "        2.07806514,  6.11874245, -0.65019707,  3.56329421,  0.87999633,\n",
       "        6.57678086, -0.4037408 ,  5.6737918 ,  5.99373098,  3.3719777 ,\n",
       "        0.76015028,  3.52163919,  2.1793307 ,  6.59660031,  3.57117232,\n",
       "       -0.76535508,  3.093349  ,  0.85540527,  6.69743428, -0.4584021 ,\n",
       "        0.82939942,  2.94555379,  3.15135855,  6.51999566,  3.51499627,\n",
       "        2.18637853,  2.03553645,  6.00039718,  6.66150116,  1.277419  ,\n",
       "        2.18983317,  3.36755785,  2.25163996,  2.9914168 ,  2.99081275,\n",
       "        3.54362182,  0.93422046,  0.83446792,  3.52382636,  3.15894078,\n",
       "        3.22659587,  0.83526388, -0.33359464,  3.34201186,  0.75180316,\n",
       "        0.76193259,  0.90960173,  0.85892704,  3.56814031,  0.79296122,\n",
       "        1.32927457, -0.78830123,  6.62815672,  1.20215757,  3.25365527,\n",
       "        6.08877871,  6.03430006,  3.35989734,  3.36576249,  3.53077726,\n",
       "        0.41110106,  3.00369991,  6.596712  ,  3.0594093 ,  5.16489804,\n",
       "        0.89713483,  6.03410217,  3.05472296,  1.46235523,  5.05091935,\n",
       "        2.99104782,  6.62603891,  1.47802167,  6.54559102,  3.16641614,\n",
       "        5.52495887,  0.75434781,  5.71994777,  1.5277217 ,  6.49768397,\n",
       "        6.64084694,  6.68652322,  4.89494571,  0.9758039 ,  3.01581571,\n",
       "        1.00621778,  3.28898044,  3.01416181,  6.58839149,  6.12304443,\n",
       "        6.69258342,  4.83892724,  6.61097894,  5.6696066 ,  6.60678275,\n",
       "        6.69025896,  3.5301764 , -0.51385636,  0.79782764, -0.17614757,\n",
       "        3.0292769 ,  6.05032295,  6.60630344,  6.62839093,  3.56286283,\n",
       "        1.46041788,  0.78369754, -0.55965121,  6.03269123,  6.23295777,\n",
       "        6.60690177,  4.99019482,  3.10029584,  1.29797294,  3.00568377,\n",
       "        3.1189286 ,  0.88343142,  5.63363158,  0.97548261,  6.05495487,\n",
       "        3.37193696,  0.81269501,  0.87846775,  0.74665843,  6.64512739,\n",
       "        6.05773476,  6.6579141 ,  0.94922869,  6.56759855,  3.02418525,\n",
       "        6.56469264,  3.54610796,  3.57746942,  2.99329341,  0.82139521,\n",
       "        1.05674235,  0.86223169,  5.70328445,  0.88135379,  5.43360721,\n",
       "        5.84152713,  6.65614047,  1.19803015,  1.32491919,  3.00911084,\n",
       "        2.07203802,  6.54514984,  1.45128531,  6.57860049,  6.64652206,\n",
       "        3.05733853,  2.41518079,  3.30798384,  3.34927186,  2.21413417,\n",
       "        6.14817355,  3.06605799,  6.59418613,  3.04960988,  6.64145843,\n",
       "        0.9530561 ,  2.94863933,  2.23857815,  4.99013317,  2.23369137,\n",
       "        0.81095227,  6.58767559,  3.09668466,  3.29643932,  3.04584631,\n",
       "        4.92641997,  6.50687039,  0.87179039,  2.9843084 , -1.05850448,\n",
       "        6.0698005 ,  6.31379845])"
      ]
     },
     "execution_count": 84,
     "metadata": {},
     "output_type": "execute_result"
    }
   ],
   "source": [
    "pred_test"
   ]
  },
  {
   "cell_type": "code",
   "execution_count": 85,
   "id": "d4b6dc02",
   "metadata": {},
   "outputs": [
    {
     "name": "stdout",
     "output_type": "stream",
     "text": [
      "0.9806934113595709\n"
     ]
    }
   ],
   "source": [
    "print(r2_score(y_test,pred_test))"
   ]
  },
  {
   "cell_type": "code",
   "execution_count": 86,
   "id": "8ebaef48",
   "metadata": {},
   "outputs": [],
   "source": [
    "from sklearn.model_selection import GridSearchCV\n",
    "from sklearn.model_selection import cross_val_score\n",
    "import warnings\n",
    "warnings.filterwarnings('ignore')"
   ]
  },
  {
   "cell_type": "code",
   "execution_count": 87,
   "id": "e69f3748",
   "metadata": {},
   "outputs": [
    {
     "data": {
      "text/plain": [
       "0.9772572700918779"
      ]
     },
     "execution_count": 87,
     "metadata": {},
     "output_type": "execute_result"
    }
   ],
   "source": [
    "cv_score=cross_val_score(lr,x,y,cv=5)\n",
    "cv_mean=cv_score.mean()\n",
    "cv_mean"
   ]
  },
  {
   "cell_type": "markdown",
   "id": "4128cbef",
   "metadata": {},
   "source": [
    "The r2 score is 98% and the cv score is 98%"
   ]
  },
  {
   "cell_type": "markdown",
   "id": "c9a3ed3c",
   "metadata": {},
   "source": [
    "# Ridge regression"
   ]
  },
  {
   "cell_type": "code",
   "execution_count": 88,
   "id": "eebfec16",
   "metadata": {},
   "outputs": [
    {
     "name": "stdout",
     "output_type": "stream",
     "text": [
      "{'alpha': 1, 'random_state': 0}\n"
     ]
    }
   ],
   "source": [
    "from sklearn.linear_model import Ridge\n",
    "\n",
    "parameters = {'alpha':[.0001, .001, .01, .1, 1, 10],'random_state':list(range(0,10))}\n",
    "rd = Ridge()\n",
    "clf = GridSearchCV(rd,parameters)\n",
    "clf.fit(x_train,y_train)\n",
    "\n",
    "print(clf.best_params_)"
   ]
  },
  {
   "cell_type": "code",
   "execution_count": 89,
   "id": "328a09b8",
   "metadata": {},
   "outputs": [
    {
     "data": {
      "text/plain": [
       "0.9802108466708676"
      ]
     },
     "execution_count": 89,
     "metadata": {},
     "output_type": "execute_result"
    }
   ],
   "source": [
    "Rid = Ridge(alpha=10,random_state=0)\n",
    "Rid.fit(x_train,y_train)\n",
    "Rid.score(x_train,y_train)\n",
    "pred_Rid = Rid.predict(x_test)\n",
    "\n",
    "Ridg = r2_score(y_test,pred_Rid)\n",
    "Ridg"
   ]
  },
  {
   "cell_type": "code",
   "execution_count": 90,
   "id": "7df3ea73",
   "metadata": {},
   "outputs": [
    {
     "data": {
      "text/plain": [
       "0.9772602899888543"
      ]
     },
     "execution_count": 90,
     "metadata": {},
     "output_type": "execute_result"
    }
   ],
   "source": [
    "cv_score=cross_val_score(rd,x,y,cv=5)\n",
    "cv_mean=cv_score.mean()\n",
    "cv_mean"
   ]
  },
  {
   "cell_type": "markdown",
   "id": "489754a9",
   "metadata": {},
   "source": [
    "The r2 score is 98% and the cv score is 98%"
   ]
  },
  {
   "cell_type": "markdown",
   "id": "0bd61310",
   "metadata": {},
   "source": [
    "# Lasso Regression"
   ]
  },
  {
   "cell_type": "code",
   "execution_count": 91,
   "id": "392120aa",
   "metadata": {},
   "outputs": [
    {
     "name": "stdout",
     "output_type": "stream",
     "text": [
      "{'alpha': 0.001, 'random_state': 0}\n"
     ]
    }
   ],
   "source": [
    "from sklearn.linear_model import Lasso\n",
    "\n",
    "parameters = {'alpha':[.0001, .001, .01, .1, 1, 10],'random_state':list(range(0,10))}\n",
    "ls = Lasso()\n",
    "clf = GridSearchCV(ls,parameters)\n",
    "clf.fit(x_train,y_train)\n",
    "\n",
    "print(clf.best_params_)"
   ]
  },
  {
   "cell_type": "code",
   "execution_count": 92,
   "id": "565cc076",
   "metadata": {},
   "outputs": [
    {
     "data": {
      "text/plain": [
       "0.7525905407467965"
      ]
     },
     "execution_count": 92,
     "metadata": {},
     "output_type": "execute_result"
    }
   ],
   "source": [
    "ls = Lasso(alpha=1,random_state=0)\n",
    "ls.fit(x_train,y_train)\n",
    "ls.score(x_train,y_train)\n",
    "pred_ls = ls.predict(x_test)\n",
    "\n",
    "lss = r2_score(y_test,pred_ls)\n",
    "lss"
   ]
  },
  {
   "cell_type": "code",
   "execution_count": 93,
   "id": "86a968af",
   "metadata": {},
   "outputs": [
    {
     "data": {
      "text/plain": [
       "0.765957337050685"
      ]
     },
     "execution_count": 93,
     "metadata": {},
     "output_type": "execute_result"
    }
   ],
   "source": [
    "cv_score=cross_val_score(ls,x,y,cv=5)\n",
    "cv_mean=cv_score.mean()\n",
    "cv_mean"
   ]
  },
  {
   "cell_type": "markdown",
   "id": "9c49fa47",
   "metadata": {},
   "source": [
    "The r2 score is 75% and the cv score is 76%"
   ]
  },
  {
   "cell_type": "markdown",
   "id": "c8c196dc",
   "metadata": {},
   "source": [
    "# RandomForestRegressor"
   ]
  },
  {
   "cell_type": "code",
   "execution_count": 94,
   "id": "06863a97",
   "metadata": {},
   "outputs": [],
   "source": [
    "from sklearn.model_selection import GridSearchCV \n",
    "from sklearn.ensemble import RandomForestRegressor"
   ]
  },
  {
   "cell_type": "code",
   "execution_count": 95,
   "id": "1bf5ef5a",
   "metadata": {},
   "outputs": [
    {
     "name": "stdout",
     "output_type": "stream",
     "text": [
      "{'criterion': 'mse', 'max_features': 'auto'}\n"
     ]
    }
   ],
   "source": [
    "parameters = {'criterion':['mse', 'mae'],\n",
    "              'max_features':[\"auto\", \"sqrt\", \"log2\"]}\n",
    "rf =RandomForestRegressor()\n",
    "clf = GridSearchCV(rf,parameters) \n",
    "clf.fit(x_train,y_train)\n",
    "\n",
    "print(clf.best_params_)"
   ]
  },
  {
   "cell_type": "code",
   "execution_count": 96,
   "id": "454f46d4",
   "metadata": {},
   "outputs": [
    {
     "name": "stdout",
     "output_type": "stream",
     "text": [
      "R2 Score: 99.99995947540692\n",
      "Cross Val Score: 99.99922435356854\n"
     ]
    }
   ],
   "source": [
    "rf= RandomForestRegressor(criterion=\"mse\",max_features=\"auto\")\n",
    "rf.fit(x_train, y_train)\n",
    "rf.score(x_train, y_train)\n",
    "pred_decision = rf.predict(x_test)\n",
    "\n",
    "rfs = r2_score(y_test,pred_decision)\n",
    "print('R2 Score:',rfs*100)\n",
    "\n",
    "rfscore = cross_val_score(rf,x,y,cv=5)\n",
    "rfc = rfscore.mean()\n",
    "print('Cross Val Score:',rfc*100)"
   ]
  },
  {
   "cell_type": "markdown",
   "id": "3a892e05",
   "metadata": {},
   "source": [
    "# Conclusion:The r2 score and the CV scores are 99.99% and hence RandomForestRegressor is the best model "
   ]
  },
  {
   "cell_type": "code",
   "execution_count": null,
   "id": "5a219db9",
   "metadata": {},
   "outputs": [],
   "source": []
  }
 ],
 "metadata": {
  "kernelspec": {
   "display_name": "Python 3",
   "language": "python",
   "name": "python3"
  },
  "language_info": {
   "codemirror_mode": {
    "name": "ipython",
    "version": 3
   },
   "file_extension": ".py",
   "mimetype": "text/x-python",
   "name": "python",
   "nbconvert_exporter": "python",
   "pygments_lexer": "ipython3",
   "version": "3.8.8"
  }
 },
 "nbformat": 4,
 "nbformat_minor": 5
}
