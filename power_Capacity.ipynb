{
 "cells": [
  {
   "cell_type": "code",
   "execution_count": 90,
   "id": "881f7f56",
   "metadata": {},
   "outputs": [],
   "source": [
    "import pandas as pd\n",
    "import numpy as np\n",
    "import seaborn as sns\n",
    "import matplotlib.pyplot as plt\n",
    "from sklearn.preprocessing import LabelEncoder\n",
    "from scipy.stats import zscore\n",
    "from scipy import stats\n",
    "from statsmodels.stats.outliers_influence import variance_inflation_factor"
   ]
  },
  {
   "cell_type": "code",
   "execution_count": 91,
   "id": "14d0c59e",
   "metadata": {},
   "outputs": [],
   "source": [
    "data=pd.read_csv('power.csv')"
   ]
  },
  {
   "cell_type": "code",
   "execution_count": 92,
   "id": "40ca1ca6",
   "metadata": {},
   "outputs": [],
   "source": [
    "df=pd.DataFrame(data)"
   ]
  },
  {
   "cell_type": "code",
   "execution_count": 93,
   "id": "7d20d42a",
   "metadata": {},
   "outputs": [
    {
     "data": {
      "text/html": [
       "<div>\n",
       "<style scoped>\n",
       "    .dataframe tbody tr th:only-of-type {\n",
       "        vertical-align: middle;\n",
       "    }\n",
       "\n",
       "    .dataframe tbody tr th {\n",
       "        vertical-align: top;\n",
       "    }\n",
       "\n",
       "    .dataframe thead th {\n",
       "        text-align: right;\n",
       "    }\n",
       "</style>\n",
       "<table border=\"1\" class=\"dataframe\">\n",
       "  <thead>\n",
       "    <tr style=\"text-align: right;\">\n",
       "      <th></th>\n",
       "      <th>country</th>\n",
       "      <th>country_long</th>\n",
       "      <th>name</th>\n",
       "      <th>gppd_idnr</th>\n",
       "      <th>capacity_mw</th>\n",
       "      <th>latitude</th>\n",
       "      <th>longitude</th>\n",
       "      <th>primary_fuel</th>\n",
       "      <th>other_fuel1</th>\n",
       "      <th>other_fuel2</th>\n",
       "      <th>...</th>\n",
       "      <th>geolocation_source</th>\n",
       "      <th>wepp_id</th>\n",
       "      <th>year_of_capacity_data</th>\n",
       "      <th>generation_gwh_2013</th>\n",
       "      <th>generation_gwh_2014</th>\n",
       "      <th>generation_gwh_2015</th>\n",
       "      <th>generation_gwh_2016</th>\n",
       "      <th>generation_gwh_2017</th>\n",
       "      <th>generation_data_source</th>\n",
       "      <th>estimated_generation_gwh</th>\n",
       "    </tr>\n",
       "  </thead>\n",
       "  <tbody>\n",
       "    <tr>\n",
       "      <th>0</th>\n",
       "      <td>IND</td>\n",
       "      <td>India</td>\n",
       "      <td>ACME Solar Tower</td>\n",
       "      <td>WRI1020239</td>\n",
       "      <td>2.5</td>\n",
       "      <td>28.1839</td>\n",
       "      <td>73.2407</td>\n",
       "      <td>Solar</td>\n",
       "      <td>NaN</td>\n",
       "      <td>NaN</td>\n",
       "      <td>...</td>\n",
       "      <td>National Renewable Energy Laboratory</td>\n",
       "      <td>NaN</td>\n",
       "      <td>NaN</td>\n",
       "      <td>NaN</td>\n",
       "      <td>NaN</td>\n",
       "      <td>NaN</td>\n",
       "      <td>NaN</td>\n",
       "      <td>NaN</td>\n",
       "      <td>NaN</td>\n",
       "      <td>NaN</td>\n",
       "    </tr>\n",
       "    <tr>\n",
       "      <th>1</th>\n",
       "      <td>IND</td>\n",
       "      <td>India</td>\n",
       "      <td>ADITYA CEMENT WORKS</td>\n",
       "      <td>WRI1019881</td>\n",
       "      <td>98.0</td>\n",
       "      <td>24.7663</td>\n",
       "      <td>74.6090</td>\n",
       "      <td>Coal</td>\n",
       "      <td>NaN</td>\n",
       "      <td>NaN</td>\n",
       "      <td>...</td>\n",
       "      <td>WRI</td>\n",
       "      <td>NaN</td>\n",
       "      <td>NaN</td>\n",
       "      <td>NaN</td>\n",
       "      <td>NaN</td>\n",
       "      <td>NaN</td>\n",
       "      <td>NaN</td>\n",
       "      <td>NaN</td>\n",
       "      <td>NaN</td>\n",
       "      <td>NaN</td>\n",
       "    </tr>\n",
       "    <tr>\n",
       "      <th>2</th>\n",
       "      <td>IND</td>\n",
       "      <td>India</td>\n",
       "      <td>AES Saurashtra Windfarms</td>\n",
       "      <td>WRI1026669</td>\n",
       "      <td>39.2</td>\n",
       "      <td>21.9038</td>\n",
       "      <td>69.3732</td>\n",
       "      <td>Wind</td>\n",
       "      <td>NaN</td>\n",
       "      <td>NaN</td>\n",
       "      <td>...</td>\n",
       "      <td>WRI</td>\n",
       "      <td>NaN</td>\n",
       "      <td>NaN</td>\n",
       "      <td>NaN</td>\n",
       "      <td>NaN</td>\n",
       "      <td>NaN</td>\n",
       "      <td>NaN</td>\n",
       "      <td>NaN</td>\n",
       "      <td>NaN</td>\n",
       "      <td>NaN</td>\n",
       "    </tr>\n",
       "    <tr>\n",
       "      <th>3</th>\n",
       "      <td>IND</td>\n",
       "      <td>India</td>\n",
       "      <td>AGARTALA GT</td>\n",
       "      <td>IND0000001</td>\n",
       "      <td>135.0</td>\n",
       "      <td>23.8712</td>\n",
       "      <td>91.3602</td>\n",
       "      <td>Gas</td>\n",
       "      <td>NaN</td>\n",
       "      <td>NaN</td>\n",
       "      <td>...</td>\n",
       "      <td>WRI</td>\n",
       "      <td>NaN</td>\n",
       "      <td>2018.0</td>\n",
       "      <td>631.777928</td>\n",
       "      <td>617.789264</td>\n",
       "      <td>843.747000</td>\n",
       "      <td>886.004428</td>\n",
       "      <td>663.774500</td>\n",
       "      <td>Central Electricity Authority</td>\n",
       "      <td>NaN</td>\n",
       "    </tr>\n",
       "    <tr>\n",
       "      <th>4</th>\n",
       "      <td>IND</td>\n",
       "      <td>India</td>\n",
       "      <td>AKALTARA TPP</td>\n",
       "      <td>IND0000002</td>\n",
       "      <td>1800.0</td>\n",
       "      <td>21.9603</td>\n",
       "      <td>82.4091</td>\n",
       "      <td>Coal</td>\n",
       "      <td>Oil</td>\n",
       "      <td>NaN</td>\n",
       "      <td>...</td>\n",
       "      <td>WRI</td>\n",
       "      <td>NaN</td>\n",
       "      <td>2018.0</td>\n",
       "      <td>1668.290000</td>\n",
       "      <td>3035.550000</td>\n",
       "      <td>5916.370000</td>\n",
       "      <td>6243.000000</td>\n",
       "      <td>5385.579736</td>\n",
       "      <td>Central Electricity Authority</td>\n",
       "      <td>NaN</td>\n",
       "    </tr>\n",
       "    <tr>\n",
       "      <th>...</th>\n",
       "      <td>...</td>\n",
       "      <td>...</td>\n",
       "      <td>...</td>\n",
       "      <td>...</td>\n",
       "      <td>...</td>\n",
       "      <td>...</td>\n",
       "      <td>...</td>\n",
       "      <td>...</td>\n",
       "      <td>...</td>\n",
       "      <td>...</td>\n",
       "      <td>...</td>\n",
       "      <td>...</td>\n",
       "      <td>...</td>\n",
       "      <td>...</td>\n",
       "      <td>...</td>\n",
       "      <td>...</td>\n",
       "      <td>...</td>\n",
       "      <td>...</td>\n",
       "      <td>...</td>\n",
       "      <td>...</td>\n",
       "      <td>...</td>\n",
       "    </tr>\n",
       "    <tr>\n",
       "      <th>903</th>\n",
       "      <td>IND</td>\n",
       "      <td>India</td>\n",
       "      <td>YERMARUS TPP</td>\n",
       "      <td>IND0000513</td>\n",
       "      <td>1600.0</td>\n",
       "      <td>16.2949</td>\n",
       "      <td>77.3568</td>\n",
       "      <td>Coal</td>\n",
       "      <td>Oil</td>\n",
       "      <td>NaN</td>\n",
       "      <td>...</td>\n",
       "      <td>WRI</td>\n",
       "      <td>NaN</td>\n",
       "      <td>2018.0</td>\n",
       "      <td>NaN</td>\n",
       "      <td>NaN</td>\n",
       "      <td>0.994875</td>\n",
       "      <td>233.596650</td>\n",
       "      <td>865.400000</td>\n",
       "      <td>Central Electricity Authority</td>\n",
       "      <td>NaN</td>\n",
       "    </tr>\n",
       "    <tr>\n",
       "      <th>904</th>\n",
       "      <td>IND</td>\n",
       "      <td>India</td>\n",
       "      <td>Yelesandra Solar Power Plant</td>\n",
       "      <td>WRI1026222</td>\n",
       "      <td>3.0</td>\n",
       "      <td>12.8932</td>\n",
       "      <td>78.1654</td>\n",
       "      <td>Solar</td>\n",
       "      <td>NaN</td>\n",
       "      <td>NaN</td>\n",
       "      <td>...</td>\n",
       "      <td>Industry About</td>\n",
       "      <td>NaN</td>\n",
       "      <td>NaN</td>\n",
       "      <td>NaN</td>\n",
       "      <td>NaN</td>\n",
       "      <td>NaN</td>\n",
       "      <td>NaN</td>\n",
       "      <td>NaN</td>\n",
       "      <td>NaN</td>\n",
       "      <td>NaN</td>\n",
       "    </tr>\n",
       "    <tr>\n",
       "      <th>905</th>\n",
       "      <td>IND</td>\n",
       "      <td>India</td>\n",
       "      <td>Yelisirur wind power project</td>\n",
       "      <td>WRI1026776</td>\n",
       "      <td>25.5</td>\n",
       "      <td>15.2758</td>\n",
       "      <td>75.5811</td>\n",
       "      <td>Wind</td>\n",
       "      <td>NaN</td>\n",
       "      <td>NaN</td>\n",
       "      <td>...</td>\n",
       "      <td>WRI</td>\n",
       "      <td>NaN</td>\n",
       "      <td>NaN</td>\n",
       "      <td>NaN</td>\n",
       "      <td>NaN</td>\n",
       "      <td>NaN</td>\n",
       "      <td>NaN</td>\n",
       "      <td>NaN</td>\n",
       "      <td>NaN</td>\n",
       "      <td>NaN</td>\n",
       "    </tr>\n",
       "    <tr>\n",
       "      <th>906</th>\n",
       "      <td>IND</td>\n",
       "      <td>India</td>\n",
       "      <td>ZAWAR MINES</td>\n",
       "      <td>WRI1019901</td>\n",
       "      <td>80.0</td>\n",
       "      <td>24.3500</td>\n",
       "      <td>73.7477</td>\n",
       "      <td>Coal</td>\n",
       "      <td>NaN</td>\n",
       "      <td>NaN</td>\n",
       "      <td>...</td>\n",
       "      <td>WRI</td>\n",
       "      <td>NaN</td>\n",
       "      <td>NaN</td>\n",
       "      <td>NaN</td>\n",
       "      <td>NaN</td>\n",
       "      <td>NaN</td>\n",
       "      <td>NaN</td>\n",
       "      <td>NaN</td>\n",
       "      <td>NaN</td>\n",
       "      <td>NaN</td>\n",
       "    </tr>\n",
       "    <tr>\n",
       "      <th>907</th>\n",
       "      <td>IND</td>\n",
       "      <td>India</td>\n",
       "      <td>iEnergy Theni Wind Farm</td>\n",
       "      <td>WRI1026761</td>\n",
       "      <td>16.5</td>\n",
       "      <td>9.9344</td>\n",
       "      <td>77.4768</td>\n",
       "      <td>Wind</td>\n",
       "      <td>NaN</td>\n",
       "      <td>NaN</td>\n",
       "      <td>...</td>\n",
       "      <td>WRI</td>\n",
       "      <td>NaN</td>\n",
       "      <td>NaN</td>\n",
       "      <td>NaN</td>\n",
       "      <td>NaN</td>\n",
       "      <td>NaN</td>\n",
       "      <td>NaN</td>\n",
       "      <td>NaN</td>\n",
       "      <td>NaN</td>\n",
       "      <td>NaN</td>\n",
       "    </tr>\n",
       "  </tbody>\n",
       "</table>\n",
       "<p>908 rows × 25 columns</p>\n",
       "</div>"
      ],
      "text/plain": [
       "    country country_long                          name   gppd_idnr  \\\n",
       "0       IND        India              ACME Solar Tower  WRI1020239   \n",
       "1       IND        India           ADITYA CEMENT WORKS  WRI1019881   \n",
       "2       IND        India      AES Saurashtra Windfarms  WRI1026669   \n",
       "3       IND        India                   AGARTALA GT  IND0000001   \n",
       "4       IND        India                  AKALTARA TPP  IND0000002   \n",
       "..      ...          ...                           ...         ...   \n",
       "903     IND        India                  YERMARUS TPP  IND0000513   \n",
       "904     IND        India  Yelesandra Solar Power Plant  WRI1026222   \n",
       "905     IND        India  Yelisirur wind power project  WRI1026776   \n",
       "906     IND        India                   ZAWAR MINES  WRI1019901   \n",
       "907     IND        India       iEnergy Theni Wind Farm  WRI1026761   \n",
       "\n",
       "     capacity_mw  latitude  longitude primary_fuel other_fuel1 other_fuel2  \\\n",
       "0            2.5   28.1839    73.2407        Solar         NaN         NaN   \n",
       "1           98.0   24.7663    74.6090         Coal         NaN         NaN   \n",
       "2           39.2   21.9038    69.3732         Wind         NaN         NaN   \n",
       "3          135.0   23.8712    91.3602          Gas         NaN         NaN   \n",
       "4         1800.0   21.9603    82.4091         Coal         Oil         NaN   \n",
       "..           ...       ...        ...          ...         ...         ...   \n",
       "903       1600.0   16.2949    77.3568         Coal         Oil         NaN   \n",
       "904          3.0   12.8932    78.1654        Solar         NaN         NaN   \n",
       "905         25.5   15.2758    75.5811         Wind         NaN         NaN   \n",
       "906         80.0   24.3500    73.7477         Coal         NaN         NaN   \n",
       "907         16.5    9.9344    77.4768         Wind         NaN         NaN   \n",
       "\n",
       "     ...                    geolocation_source  wepp_id year_of_capacity_data  \\\n",
       "0    ...  National Renewable Energy Laboratory      NaN                   NaN   \n",
       "1    ...                                   WRI      NaN                   NaN   \n",
       "2    ...                                   WRI      NaN                   NaN   \n",
       "3    ...                                   WRI      NaN                2018.0   \n",
       "4    ...                                   WRI      NaN                2018.0   \n",
       "..   ...                                   ...      ...                   ...   \n",
       "903  ...                                   WRI      NaN                2018.0   \n",
       "904  ...                        Industry About      NaN                   NaN   \n",
       "905  ...                                   WRI      NaN                   NaN   \n",
       "906  ...                                   WRI      NaN                   NaN   \n",
       "907  ...                                   WRI      NaN                   NaN   \n",
       "\n",
       "    generation_gwh_2013 generation_gwh_2014 generation_gwh_2015  \\\n",
       "0                   NaN                 NaN                 NaN   \n",
       "1                   NaN                 NaN                 NaN   \n",
       "2                   NaN                 NaN                 NaN   \n",
       "3            631.777928          617.789264          843.747000   \n",
       "4           1668.290000         3035.550000         5916.370000   \n",
       "..                  ...                 ...                 ...   \n",
       "903                 NaN                 NaN            0.994875   \n",
       "904                 NaN                 NaN                 NaN   \n",
       "905                 NaN                 NaN                 NaN   \n",
       "906                 NaN                 NaN                 NaN   \n",
       "907                 NaN                 NaN                 NaN   \n",
       "\n",
       "     generation_gwh_2016  generation_gwh_2017         generation_data_source  \\\n",
       "0                    NaN                  NaN                            NaN   \n",
       "1                    NaN                  NaN                            NaN   \n",
       "2                    NaN                  NaN                            NaN   \n",
       "3             886.004428           663.774500  Central Electricity Authority   \n",
       "4            6243.000000          5385.579736  Central Electricity Authority   \n",
       "..                   ...                  ...                            ...   \n",
       "903           233.596650           865.400000  Central Electricity Authority   \n",
       "904                  NaN                  NaN                            NaN   \n",
       "905                  NaN                  NaN                            NaN   \n",
       "906                  NaN                  NaN                            NaN   \n",
       "907                  NaN                  NaN                            NaN   \n",
       "\n",
       "     estimated_generation_gwh  \n",
       "0                         NaN  \n",
       "1                         NaN  \n",
       "2                         NaN  \n",
       "3                         NaN  \n",
       "4                         NaN  \n",
       "..                        ...  \n",
       "903                       NaN  \n",
       "904                       NaN  \n",
       "905                       NaN  \n",
       "906                       NaN  \n",
       "907                       NaN  \n",
       "\n",
       "[908 rows x 25 columns]"
      ]
     },
     "execution_count": 93,
     "metadata": {},
     "output_type": "execute_result"
    }
   ],
   "source": [
    "df"
   ]
  },
  {
   "cell_type": "code",
   "execution_count": 94,
   "id": "68832d4b",
   "metadata": {},
   "outputs": [
    {
     "data": {
      "text/plain": [
       "(908, 25)"
      ]
     },
     "execution_count": 94,
     "metadata": {},
     "output_type": "execute_result"
    }
   ],
   "source": [
    "df.shape"
   ]
  },
  {
   "cell_type": "markdown",
   "id": "204417a6",
   "metadata": {},
   "source": [
    "The dataset has 908 rows and 25 columns"
   ]
  },
  {
   "cell_type": "code",
   "execution_count": 95,
   "id": "5a4080d2",
   "metadata": {},
   "outputs": [
    {
     "data": {
      "text/plain": [
       "country                      object\n",
       "country_long                 object\n",
       "name                         object\n",
       "gppd_idnr                    object\n",
       "capacity_mw                 float64\n",
       "latitude                    float64\n",
       "longitude                   float64\n",
       "primary_fuel                 object\n",
       "other_fuel1                  object\n",
       "other_fuel2                  object\n",
       "other_fuel3                 float64\n",
       "commissioning_year          float64\n",
       "owner                        object\n",
       "source                       object\n",
       "url                          object\n",
       "geolocation_source           object\n",
       "wepp_id                     float64\n",
       "year_of_capacity_data       float64\n",
       "generation_gwh_2013         float64\n",
       "generation_gwh_2014         float64\n",
       "generation_gwh_2015         float64\n",
       "generation_gwh_2016         float64\n",
       "generation_gwh_2017         float64\n",
       "generation_data_source       object\n",
       "estimated_generation_gwh    float64\n",
       "dtype: object"
      ]
     },
     "execution_count": 95,
     "metadata": {},
     "output_type": "execute_result"
    }
   ],
   "source": [
    "df.dtypes"
   ]
  },
  {
   "cell_type": "markdown",
   "id": "27e8f87f",
   "metadata": {},
   "source": [
    "we can see the datatypes of each column"
   ]
  },
  {
   "cell_type": "code",
   "execution_count": 96,
   "id": "d0796532",
   "metadata": {},
   "outputs": [
    {
     "data": {
      "text/plain": [
       "country                       0\n",
       "country_long                  0\n",
       "name                          0\n",
       "gppd_idnr                     0\n",
       "capacity_mw                   0\n",
       "latitude                     46\n",
       "longitude                    46\n",
       "primary_fuel                  0\n",
       "other_fuel1                 709\n",
       "other_fuel2                 907\n",
       "other_fuel3                 908\n",
       "commissioning_year          380\n",
       "owner                       566\n",
       "source                        0\n",
       "url                           0\n",
       "geolocation_source           19\n",
       "wepp_id                     908\n",
       "year_of_capacity_data       388\n",
       "generation_gwh_2013         524\n",
       "generation_gwh_2014         507\n",
       "generation_gwh_2015         483\n",
       "generation_gwh_2016         471\n",
       "generation_gwh_2017         465\n",
       "generation_data_source      458\n",
       "estimated_generation_gwh    908\n",
       "dtype: int64"
      ]
     },
     "execution_count": 96,
     "metadata": {},
     "output_type": "execute_result"
    }
   ],
   "source": [
    "df.isnull().sum()"
   ]
  },
  {
   "cell_type": "markdown",
   "id": "7d06a8ec",
   "metadata": {},
   "source": [
    "The dataset has a lot of null values"
   ]
  },
  {
   "cell_type": "markdown",
   "id": "e1db599b",
   "metadata": {},
   "source": [
    "# Removing Null values"
   ]
  },
  {
   "cell_type": "code",
   "execution_count": 97,
   "id": "83a0de05",
   "metadata": {},
   "outputs": [],
   "source": [
    "df['latitude'].fillna(df['latitude'].value_counts().idxmax(), inplace=True)\n",
    "df['longitude'].fillna(df['longitude'].value_counts().idxmax(), inplace=True)\n",
    "df['other_fuel1'].fillna(df['latitude'].value_counts().idxmax(), inplace=True)\n",
    "df['other_fuel2'].fillna(df['other_fuel2'].value_counts().idxmax(), inplace=True)\n",
    "\n",
    "df['commissioning_year'].fillna(df['commissioning_year'].value_counts().idxmax(), inplace=True)\n",
    "df['owner'].fillna(df['owner'].value_counts().idxmax(), inplace=True)\n",
    "df['geolocation_source'].fillna(df['geolocation_source'].value_counts().idxmax(), inplace=True)\n",
    "df['year_of_capacity_data'].fillna(df['year_of_capacity_data'].value_counts().idxmax(), inplace=True)\n",
    "df['generation_gwh_2013'].fillna(df['generation_gwh_2013'].value_counts().idxmax(), inplace=True)\n",
    "df['generation_gwh_2014'].fillna(df['generation_gwh_2014'].value_counts().idxmax(), inplace=True)\n",
    "df['generation_gwh_2015'].fillna(df['generation_gwh_2015'].value_counts().idxmax(), inplace=True)\n",
    "df['generation_gwh_2016'].fillna(df['generation_gwh_2016'].value_counts().idxmax(), inplace=True)\n",
    "df['generation_gwh_2017'].fillna(df['generation_gwh_2017'].value_counts().idxmax(), inplace=True)\n",
    "df['generation_data_source'].fillna(df['generation_data_source'].value_counts().idxmax(), inplace=True)"
   ]
  },
  {
   "cell_type": "code",
   "execution_count": 19,
   "id": "6d139002",
   "metadata": {},
   "outputs": [
    {
     "data": {
      "text/plain": [
       "country                       0\n",
       "country_long                  0\n",
       "name                          0\n",
       "gppd_idnr                     0\n",
       "capacity_mw                   0\n",
       "latitude                      0\n",
       "longitude                     0\n",
       "primary_fuel                  0\n",
       "other_fuel1                   0\n",
       "other_fuel2                   0\n",
       "other_fuel3                 908\n",
       "commissioning_year            0\n",
       "owner                         0\n",
       "source                        0\n",
       "url                           0\n",
       "geolocation_source            0\n",
       "wepp_id                     908\n",
       "year_of_capacity_data         0\n",
       "generation_gwh_2013           0\n",
       "generation_gwh_2014           0\n",
       "generation_gwh_2015           0\n",
       "generation_gwh_2016           0\n",
       "generation_gwh_2017           0\n",
       "generation_data_source        0\n",
       "estimated_generation_gwh    908\n",
       "dtype: int64"
      ]
     },
     "execution_count": 19,
     "metadata": {},
     "output_type": "execute_result"
    }
   ],
   "source": [
    "df.isnull().sum()"
   ]
  },
  {
   "cell_type": "markdown",
   "id": "79e34b44",
   "metadata": {},
   "source": [
    "The null values are removed but the columns wepp_id,estimated_generation_gwh,other_fuel3 does not have an data."
   ]
  },
  {
   "cell_type": "markdown",
   "id": "10c0cf6e",
   "metadata": {},
   "source": [
    "# Dropping the columns wepp_id,estimated_generation_gwh,other_fuel3 does not have an data."
   ]
  },
  {
   "cell_type": "code",
   "execution_count": 98,
   "id": "bd32348b",
   "metadata": {},
   "outputs": [],
   "source": [
    "df.drop(['other_fuel3','wepp_id','estimated_generation_gwh'],axis=1,inplace=True)"
   ]
  },
  {
   "cell_type": "code",
   "execution_count": 99,
   "id": "15da01bd",
   "metadata": {},
   "outputs": [
    {
     "data": {
      "text/plain": [
       "(908, 22)"
      ]
     },
     "execution_count": 99,
     "metadata": {},
     "output_type": "execute_result"
    }
   ],
   "source": [
    "df.shape"
   ]
  },
  {
   "cell_type": "markdown",
   "id": "09b79d2d",
   "metadata": {},
   "source": [
    "The dataset has 22 columns after dropping the columns"
   ]
  },
  {
   "cell_type": "code",
   "execution_count": 100,
   "id": "1a4a99cc",
   "metadata": {},
   "outputs": [
    {
     "data": {
      "text/plain": [
       "country                    object\n",
       "country_long               object\n",
       "name                       object\n",
       "gppd_idnr                  object\n",
       "capacity_mw               float64\n",
       "latitude                  float64\n",
       "longitude                 float64\n",
       "primary_fuel               object\n",
       "other_fuel1                object\n",
       "other_fuel2                object\n",
       "commissioning_year        float64\n",
       "owner                      object\n",
       "source                     object\n",
       "url                        object\n",
       "geolocation_source         object\n",
       "year_of_capacity_data     float64\n",
       "generation_gwh_2013       float64\n",
       "generation_gwh_2014       float64\n",
       "generation_gwh_2015       float64\n",
       "generation_gwh_2016       float64\n",
       "generation_gwh_2017       float64\n",
       "generation_data_source     object\n",
       "dtype: object"
      ]
     },
     "execution_count": 100,
     "metadata": {},
     "output_type": "execute_result"
    }
   ],
   "source": [
    "df.dtypes"
   ]
  },
  {
   "cell_type": "markdown",
   "id": "35abaf7f",
   "metadata": {},
   "source": [
    "# Encoding the Object columns"
   ]
  },
  {
   "cell_type": "code",
   "execution_count": 101,
   "id": "6e2652f0",
   "metadata": {},
   "outputs": [],
   "source": [
    "le=LabelEncoder()\n",
    "df['country']=le.fit_transform(df['country'])\n",
    "df['country_long']=le.fit_transform(df['country_long'])\n",
    "df['name']=le.fit_transform(df['name'])\n",
    "df['gppd_idnr']=le.fit_transform(df['gppd_idnr'])\n",
    "df['primary_fuel']=le.fit_transform(df['primary_fuel'])\n",
    "#df['other_fuel1']=le.fit_transform(df['other_fuel1'])\n",
    "df['other_fuel2']=le.fit_transform(df['other_fuel2'])\n",
    "\n",
    "df['owner']=le.fit_transform(df['owner'])\n",
    "\n",
    "df['source']=le.fit_transform(df['source'])\n",
    "df['url']=le.fit_transform(df['url'])\n",
    "df['geolocation_source']=le.fit_transform(df['geolocation_source'])\n",
    "df['generation_data_source']=le.fit_transform(df['generation_data_source'])\n"
   ]
  },
  {
   "cell_type": "markdown",
   "id": "c6a2a334",
   "metadata": {},
   "source": [
    "df.dtypes"
   ]
  },
  {
   "cell_type": "markdown",
   "id": "d8c8435d",
   "metadata": {},
   "source": [
    "Columns after encoding the columns"
   ]
  },
  {
   "cell_type": "code",
   "execution_count": 102,
   "id": "3b4f10e7",
   "metadata": {},
   "outputs": [],
   "source": [
    "df.drop(['other_fuel1'],axis=1,inplace=True)"
   ]
  },
  {
   "cell_type": "markdown",
   "id": "66a763ce",
   "metadata": {},
   "source": [
    "Dropping the column other_fuel1"
   ]
  },
  {
   "cell_type": "markdown",
   "id": "5d830513",
   "metadata": {},
   "source": [
    "# Detecting Outliers"
   ]
  },
  {
   "cell_type": "code",
   "execution_count": 103,
   "id": "2b6b520c",
   "metadata": {},
   "outputs": [
    {
     "data": {
      "text/plain": [
       "country                       AxesSubplot(0.125,0.71587;0.110714x0.16413)\n",
       "country_long               AxesSubplot(0.257857,0.71587;0.110714x0.16413)\n",
       "name                       AxesSubplot(0.390714,0.71587;0.110714x0.16413)\n",
       "gppd_idnr                  AxesSubplot(0.523571,0.71587;0.110714x0.16413)\n",
       "capacity_mw                AxesSubplot(0.656429,0.71587;0.110714x0.16413)\n",
       "latitude                   AxesSubplot(0.789286,0.71587;0.110714x0.16413)\n",
       "longitude                    AxesSubplot(0.125,0.518913;0.110714x0.16413)\n",
       "primary_fuel              AxesSubplot(0.257857,0.518913;0.110714x0.16413)\n",
       "other_fuel2               AxesSubplot(0.390714,0.518913;0.110714x0.16413)\n",
       "commissioning_year        AxesSubplot(0.523571,0.518913;0.110714x0.16413)\n",
       "owner                     AxesSubplot(0.656429,0.518913;0.110714x0.16413)\n",
       "source                    AxesSubplot(0.789286,0.518913;0.110714x0.16413)\n",
       "url                          AxesSubplot(0.125,0.321957;0.110714x0.16413)\n",
       "geolocation_source        AxesSubplot(0.257857,0.321957;0.110714x0.16413)\n",
       "year_of_capacity_data     AxesSubplot(0.390714,0.321957;0.110714x0.16413)\n",
       "generation_gwh_2013       AxesSubplot(0.523571,0.321957;0.110714x0.16413)\n",
       "generation_gwh_2014       AxesSubplot(0.656429,0.321957;0.110714x0.16413)\n",
       "generation_gwh_2015       AxesSubplot(0.789286,0.321957;0.110714x0.16413)\n",
       "generation_gwh_2016             AxesSubplot(0.125,0.125;0.110714x0.16413)\n",
       "generation_gwh_2017          AxesSubplot(0.257857,0.125;0.110714x0.16413)\n",
       "generation_data_source       AxesSubplot(0.390714,0.125;0.110714x0.16413)\n",
       "dtype: object"
      ]
     },
     "execution_count": 103,
     "metadata": {},
     "output_type": "execute_result"
    },
    {
     "data": {
      "image/png": "[encoded data removed]",
      "text/plain": [
       "<Figure size 720x720 with 24 Axes>"
      ]
     },
     "metadata": {
      "needs_background": "light"
     },
     "output_type": "display_data"
    }
   ],
   "source": [
    "df.plot(kind='box',subplots=True,layout=(4,6),figsize=(10,10))"
   ]
  },
  {
   "cell_type": "markdown",
   "id": "ae6f1315",
   "metadata": {},
   "source": [
    "# Checking Skewness"
   ]
  },
  {
   "cell_type": "code",
   "execution_count": 104,
   "id": "b6cb549c",
   "metadata": {},
   "outputs": [
    {
     "data": {
      "text/plain": [
       "country                   0.000000\n",
       "country_long              0.000000\n",
       "name                      0.000000\n",
       "gppd_idnr                 0.000000\n",
       "capacity_mw               3.193257\n",
       "latitude                 -0.213428\n",
       "longitude                 1.118449\n",
       "primary_fuel              0.471141\n",
       "other_fuel2               0.000000\n",
       "commissioning_year       -1.779021\n",
       "owner                     1.366078\n",
       "source                    1.829145\n",
       "url                       1.512258\n",
       "geolocation_source       -2.161710\n",
       "year_of_capacity_data     0.000000\n",
       "generation_gwh_2013       5.158053\n",
       "generation_gwh_2014       4.989441\n",
       "generation_gwh_2015       5.264211\n",
       "generation_gwh_2016       4.988235\n",
       "generation_gwh_2017       4.983065\n",
       "generation_data_source    0.000000\n",
       "dtype: float64"
      ]
     },
     "execution_count": 104,
     "metadata": {},
     "output_type": "execute_result"
    }
   ],
   "source": [
    "df.skew()"
   ]
  },
  {
   "cell_type": "markdown",
   "id": "3d70dc7f",
   "metadata": {},
   "source": [
    "Most of the columns have skewness but not considering the outliers and skewness for object columns"
   ]
  },
  {
   "cell_type": "code",
   "execution_count": 105,
   "id": "7e6f3ce2",
   "metadata": {},
   "outputs": [],
   "source": [
    "df.drop(['country','country_long','name','gppd_idnr','year_of_capacity_data','generation_data_source'],axis=1,inplace=True)"
   ]
  },
  {
   "cell_type": "markdown",
   "id": "ac8d4c68",
   "metadata": {},
   "source": [
    "Dropping the columns"
   ]
  },
  {
   "cell_type": "code",
   "execution_count": 106,
   "id": "0ab4b42b",
   "metadata": {},
   "outputs": [
    {
     "data": {
      "text/plain": [
       "(908, 15)"
      ]
     },
     "execution_count": 106,
     "metadata": {},
     "output_type": "execute_result"
    }
   ],
   "source": [
    "df.shape"
   ]
  },
  {
   "cell_type": "markdown",
   "id": "eb010086",
   "metadata": {},
   "source": [
    "# Checking Collinearity"
   ]
  },
  {
   "cell_type": "code",
   "execution_count": 107,
   "id": "185d2463",
   "metadata": {},
   "outputs": [
    {
     "data": {
      "text/plain": [
       "<AxesSubplot:>"
      ]
     },
     "execution_count": 107,
     "metadata": {},
     "output_type": "execute_result"
    },
    {
     "data": {
      "image/png": "[encoded data removed]",
      "text/plain": [
       "<Figure size 432x288 with 2 Axes>"
      ]
     },
     "metadata": {
      "needs_background": "light"
     },
     "output_type": "display_data"
    }
   ],
   "source": [
    "sns.heatmap(df.corr(),annot=True)"
   ]
  },
  {
   "cell_type": "code",
   "execution_count": 108,
   "id": "70827862",
   "metadata": {},
   "outputs": [
    {
     "data": {
      "text/plain": [
       "<function matplotlib.pyplot.show(close=None, block=None)>"
      ]
     },
     "execution_count": 108,
     "metadata": {},
     "output_type": "execute_result"
    },
    {
     "data": {
      "image/png": "[encoded data removed]",
      "text/plain": [
       "<Figure size 1584x504 with 1 Axes>"
      ]
     },
     "metadata": {
      "needs_background": "light"
     },
     "output_type": "display_data"
    }
   ],
   "source": [
    "plt.figure(figsize=(22,7))\n",
    "df.corr()['capacity_mw'].sort_values(ascending=False).drop(['capacity_mw']).plot(kind='bar',color='c')\n",
    "plt.xlabel('Feature',fontsize=14)\n",
    "plt.ylabel('column with target names',fontsize=14)\n",
    "plt.title('correlation',fontsize=18)\n",
    "plt.show"
   ]
  },
  {
   "cell_type": "markdown",
   "id": "733856d8",
   "metadata": {},
   "source": [
    "The heatmap shows that the lighter shades are highly correlated and the graph shows positively and negatively related columns to the target variable capacity_mw"
   ]
  },
  {
   "cell_type": "markdown",
   "id": "c4fd21a9",
   "metadata": {},
   "source": [
    "# Splitting the input and target variable"
   ]
  },
  {
   "cell_type": "code",
   "execution_count": 109,
   "id": "e1c7350d",
   "metadata": {},
   "outputs": [],
   "source": [
    "x=df.drop(['capacity_mw'],axis=1)\n",
    "y=df['capacity_mw']"
   ]
  },
  {
   "cell_type": "code",
   "execution_count": 110,
   "id": "101a7d25",
   "metadata": {},
   "outputs": [],
   "source": [
    "def calc_vif(x):\n",
    "    vif=pd.DataFrame()\n",
    "    vif[\"variables\"]=x.columns\n",
    "    vif[\"VIF FACTOR\"]=[variance_inflation_factor(x.values,i) for i in range(x.shape[1])]\n",
    "    return (vif)\n"
   ]
  },
  {
   "cell_type": "code",
   "execution_count": 111,
   "id": "dad5441d",
   "metadata": {},
   "outputs": [
    {
     "data": {
      "text/html": [
       "<div>\n",
       "<style scoped>\n",
       "    .dataframe tbody tr th:only-of-type {\n",
       "        vertical-align: middle;\n",
       "    }\n",
       "\n",
       "    .dataframe tbody tr th {\n",
       "        vertical-align: top;\n",
       "    }\n",
       "\n",
       "    .dataframe thead th {\n",
       "        text-align: right;\n",
       "    }\n",
       "</style>\n",
       "<table border=\"1\" class=\"dataframe\">\n",
       "  <thead>\n",
       "    <tr style=\"text-align: right;\">\n",
       "      <th></th>\n",
       "      <th>variables</th>\n",
       "      <th>VIF FACTOR</th>\n",
       "    </tr>\n",
       "  </thead>\n",
       "  <tbody>\n",
       "    <tr>\n",
       "      <th>0</th>\n",
       "      <td>latitude</td>\n",
       "      <td>14.214091</td>\n",
       "    </tr>\n",
       "    <tr>\n",
       "      <th>1</th>\n",
       "      <td>longitude</td>\n",
       "      <td>298.266510</td>\n",
       "    </tr>\n",
       "    <tr>\n",
       "      <th>2</th>\n",
       "      <td>primary_fuel</td>\n",
       "      <td>10.342168</td>\n",
       "    </tr>\n",
       "    <tr>\n",
       "      <th>3</th>\n",
       "      <td>other_fuel2</td>\n",
       "      <td>NaN</td>\n",
       "    </tr>\n",
       "    <tr>\n",
       "      <th>4</th>\n",
       "      <td>commissioning_year</td>\n",
       "      <td>380.599365</td>\n",
       "    </tr>\n",
       "    <tr>\n",
       "      <th>5</th>\n",
       "      <td>owner</td>\n",
       "      <td>4.849538</td>\n",
       "    </tr>\n",
       "    <tr>\n",
       "      <th>6</th>\n",
       "      <td>source</td>\n",
       "      <td>7.693317</td>\n",
       "    </tr>\n",
       "    <tr>\n",
       "      <th>7</th>\n",
       "      <td>url</td>\n",
       "      <td>6.857847</td>\n",
       "    </tr>\n",
       "    <tr>\n",
       "      <th>8</th>\n",
       "      <td>geolocation_source</td>\n",
       "      <td>21.146094</td>\n",
       "    </tr>\n",
       "    <tr>\n",
       "      <th>9</th>\n",
       "      <td>generation_gwh_2013</td>\n",
       "      <td>29.014505</td>\n",
       "    </tr>\n",
       "    <tr>\n",
       "      <th>10</th>\n",
       "      <td>generation_gwh_2014</td>\n",
       "      <td>74.169327</td>\n",
       "    </tr>\n",
       "    <tr>\n",
       "      <th>11</th>\n",
       "      <td>generation_gwh_2015</td>\n",
       "      <td>48.246296</td>\n",
       "    </tr>\n",
       "    <tr>\n",
       "      <th>12</th>\n",
       "      <td>generation_gwh_2016</td>\n",
       "      <td>56.520502</td>\n",
       "    </tr>\n",
       "    <tr>\n",
       "      <th>13</th>\n",
       "      <td>generation_gwh_2017</td>\n",
       "      <td>27.037185</td>\n",
       "    </tr>\n",
       "  </tbody>\n",
       "</table>\n",
       "</div>"
      ],
      "text/plain": [
       "              variables  VIF FACTOR\n",
       "0              latitude   14.214091\n",
       "1             longitude  298.266510\n",
       "2          primary_fuel   10.342168\n",
       "3           other_fuel2         NaN\n",
       "4    commissioning_year  380.599365\n",
       "5                 owner    4.849538\n",
       "6                source    7.693317\n",
       "7                   url    6.857847\n",
       "8    geolocation_source   21.146094\n",
       "9   generation_gwh_2013   29.014505\n",
       "10  generation_gwh_2014   74.169327\n",
       "11  generation_gwh_2015   48.246296\n",
       "12  generation_gwh_2016   56.520502\n",
       "13  generation_gwh_2017   27.037185"
      ]
     },
     "execution_count": 111,
     "metadata": {},
     "output_type": "execute_result"
    }
   ],
   "source": [
    "calc_vif(x)"
   ]
  },
  {
   "cell_type": "code",
   "execution_count": 112,
   "id": "7c9364da",
   "metadata": {},
   "outputs": [],
   "source": [
    "x1=df.drop(['commissioning_year'],axis=1)"
   ]
  },
  {
   "cell_type": "code",
   "execution_count": 113,
   "id": "86ea08d0",
   "metadata": {},
   "outputs": [],
   "source": [
    "def calc_vif(x1):\n",
    "    vif=pd.DataFrame()\n",
    "    vif[\"variables\"]=x1.columns\n",
    "    vif[\"VIF FACTOR\"]=[variance_inflation_factor(x1.values,i) for i in range(x1.shape[1])]\n",
    "    return (vif)"
   ]
  },
  {
   "cell_type": "code",
   "execution_count": 114,
   "id": "b6c752c2",
   "metadata": {},
   "outputs": [
    {
     "data": {
      "text/html": [
       "<div>\n",
       "<style scoped>\n",
       "    .dataframe tbody tr th:only-of-type {\n",
       "        vertical-align: middle;\n",
       "    }\n",
       "\n",
       "    .dataframe tbody tr th {\n",
       "        vertical-align: top;\n",
       "    }\n",
       "\n",
       "    .dataframe thead th {\n",
       "        text-align: right;\n",
       "    }\n",
       "</style>\n",
       "<table border=\"1\" class=\"dataframe\">\n",
       "  <thead>\n",
       "    <tr style=\"text-align: right;\">\n",
       "      <th></th>\n",
       "      <th>variables</th>\n",
       "      <th>VIF FACTOR</th>\n",
       "    </tr>\n",
       "  </thead>\n",
       "  <tbody>\n",
       "    <tr>\n",
       "      <th>0</th>\n",
       "      <td>capacity_mw</td>\n",
       "      <td>7.743708</td>\n",
       "    </tr>\n",
       "    <tr>\n",
       "      <th>1</th>\n",
       "      <td>latitude</td>\n",
       "      <td>13.463155</td>\n",
       "    </tr>\n",
       "    <tr>\n",
       "      <th>2</th>\n",
       "      <td>longitude</td>\n",
       "      <td>47.921851</td>\n",
       "    </tr>\n",
       "    <tr>\n",
       "      <th>3</th>\n",
       "      <td>primary_fuel</td>\n",
       "      <td>9.032141</td>\n",
       "    </tr>\n",
       "    <tr>\n",
       "      <th>4</th>\n",
       "      <td>other_fuel2</td>\n",
       "      <td>NaN</td>\n",
       "    </tr>\n",
       "    <tr>\n",
       "      <th>5</th>\n",
       "      <td>owner</td>\n",
       "      <td>4.882395</td>\n",
       "    </tr>\n",
       "    <tr>\n",
       "      <th>6</th>\n",
       "      <td>source</td>\n",
       "      <td>7.179176</td>\n",
       "    </tr>\n",
       "    <tr>\n",
       "      <th>7</th>\n",
       "      <td>url</td>\n",
       "      <td>6.871210</td>\n",
       "    </tr>\n",
       "    <tr>\n",
       "      <th>8</th>\n",
       "      <td>geolocation_source</td>\n",
       "      <td>19.151877</td>\n",
       "    </tr>\n",
       "    <tr>\n",
       "      <th>9</th>\n",
       "      <td>generation_gwh_2013</td>\n",
       "      <td>28.990567</td>\n",
       "    </tr>\n",
       "    <tr>\n",
       "      <th>10</th>\n",
       "      <td>generation_gwh_2014</td>\n",
       "      <td>74.033664</td>\n",
       "    </tr>\n",
       "    <tr>\n",
       "      <th>11</th>\n",
       "      <td>generation_gwh_2015</td>\n",
       "      <td>48.446993</td>\n",
       "    </tr>\n",
       "    <tr>\n",
       "      <th>12</th>\n",
       "      <td>generation_gwh_2016</td>\n",
       "      <td>56.898531</td>\n",
       "    </tr>\n",
       "    <tr>\n",
       "      <th>13</th>\n",
       "      <td>generation_gwh_2017</td>\n",
       "      <td>30.487186</td>\n",
       "    </tr>\n",
       "  </tbody>\n",
       "</table>\n",
       "</div>"
      ],
      "text/plain": [
       "              variables  VIF FACTOR\n",
       "0           capacity_mw    7.743708\n",
       "1              latitude   13.463155\n",
       "2             longitude   47.921851\n",
       "3          primary_fuel    9.032141\n",
       "4           other_fuel2         NaN\n",
       "5                 owner    4.882395\n",
       "6                source    7.179176\n",
       "7                   url    6.871210\n",
       "8    geolocation_source   19.151877\n",
       "9   generation_gwh_2013   28.990567\n",
       "10  generation_gwh_2014   74.033664\n",
       "11  generation_gwh_2015   48.446993\n",
       "12  generation_gwh_2016   56.898531\n",
       "13  generation_gwh_2017   30.487186"
      ]
     },
     "execution_count": 114,
     "metadata": {},
     "output_type": "execute_result"
    }
   ],
   "source": [
    "calc_vif(x1)"
   ]
  },
  {
   "cell_type": "code",
   "execution_count": 115,
   "id": "85aab8e2",
   "metadata": {},
   "outputs": [],
   "source": [
    "x=df.drop(['commissioning_year','other_fuel2'],axis=1)"
   ]
  },
  {
   "cell_type": "markdown",
   "id": "5b6c23b0",
   "metadata": {},
   "source": [
    "# Using power_transform method to remove skewness¶"
   ]
  },
  {
   "cell_type": "code",
   "execution_count": 116,
   "id": "f5664233",
   "metadata": {},
   "outputs": [],
   "source": [
    "from sklearn.preprocessing import power_transform\n",
    "x=power_transform(x,method='yeo-johnson')"
   ]
  },
  {
   "cell_type": "markdown",
   "id": "89aa8355",
   "metadata": {},
   "source": [
    "# Scaling the input variable"
   ]
  },
  {
   "cell_type": "code",
   "execution_count": 117,
   "id": "0420a8e4",
   "metadata": {},
   "outputs": [],
   "source": [
    "from sklearn.preprocessing import StandardScaler\n",
    "sc=StandardScaler()\n",
    "x=sc.fit_transform(x)"
   ]
  },
  {
   "cell_type": "code",
   "execution_count": 118,
   "id": "099104e3",
   "metadata": {},
   "outputs": [],
   "source": [
    "from sklearn.linear_model import LinearRegression\n",
    "lr=LinearRegression()\n",
    "from sklearn.metrics import r2_score\n",
    "from sklearn.model_selection import train_test_split\n",
    "from sklearn.model_selection import train_test_split\n",
    "X_train,X_test,y_train,y_test=train_test_split(x,y,test_size=0.2,random_state=42)\n"
   ]
  },
  {
   "cell_type": "code",
   "execution_count": 119,
   "id": "fa7a2cd8",
   "metadata": {},
   "outputs": [],
   "source": [
    "from sklearn.linear_model import LinearRegression\n",
    "lr=LinearRegression()\n",
    "lr.fit(X_train,y_train)\n",
    "pred=lr.predict(X_test)"
   ]
  },
  {
   "cell_type": "code",
   "execution_count": 120,
   "id": "43f8ed0e",
   "metadata": {},
   "outputs": [
    {
     "name": "stdout",
     "output_type": "stream",
     "text": [
      "At random state 0,the training accuracy is:- 0.5855789583321274\n",
      "At random state 0,the testing accuracy is:- 0.5244463606234794\n",
      "\n",
      "\n",
      "At random state 1,the training accuracy is:- 0.5771245314353188\n",
      "At random state 1,the testing accuracy is:- 0.5817063661392026\n",
      "\n",
      "\n",
      "At random state 2,the training accuracy is:- 0.5751127605644124\n",
      "At random state 2,the testing accuracy is:- 0.603101141462971\n",
      "\n",
      "\n",
      "At random state 3,the training accuracy is:- 0.5768058111411294\n",
      "At random state 3,the testing accuracy is:- 0.5816334068887832\n",
      "\n",
      "\n",
      "At random state 4,the training accuracy is:- 0.5793036884782635\n",
      "At random state 4,the testing accuracy is:- 0.5610080951989792\n",
      "\n",
      "\n",
      "At random state 5,the training accuracy is:- 0.5805701057682001\n",
      "At random state 5,the testing accuracy is:- 0.5509558431699807\n",
      "\n",
      "\n",
      "At random state 6,the training accuracy is:- 0.5807428869567313\n",
      "At random state 6,the testing accuracy is:- 0.5522679276882586\n",
      "\n",
      "\n",
      "At random state 7,the training accuracy is:- 0.5726011107310993\n",
      "At random state 7,the testing accuracy is:- 0.6540532623927435\n",
      "\n",
      "\n",
      "At random state 8,the training accuracy is:- 0.5875207092440489\n",
      "At random state 8,the testing accuracy is:- 0.49444041700897245\n",
      "\n",
      "\n",
      "At random state 9,the training accuracy is:- 0.5845078403711088\n",
      "At random state 9,the testing accuracy is:- 0.5304156828841693\n",
      "\n",
      "\n",
      "At random state 10,the training accuracy is:- 0.5808548543279728\n",
      "At random state 10,the testing accuracy is:- 0.5419923300167124\n",
      "\n",
      "\n",
      "At random state 11,the training accuracy is:- 0.5759087862853207\n",
      "At random state 11,the testing accuracy is:- 0.5782204931463258\n",
      "\n",
      "\n",
      "At random state 12,the training accuracy is:- 0.5744519917514195\n",
      "At random state 12,the testing accuracy is:- 0.605551994991441\n",
      "\n",
      "\n",
      "At random state 13,the training accuracy is:- 0.5768369719213795\n",
      "At random state 13,the testing accuracy is:- 0.5821475091985487\n",
      "\n",
      "\n",
      "At random state 14,the training accuracy is:- 0.5797982723694761\n",
      "At random state 14,the testing accuracy is:- 0.5559090337019429\n",
      "\n",
      "\n",
      "At random state 15,the training accuracy is:- 0.5908096695460159\n",
      "At random state 15,the testing accuracy is:- 0.5026668253480933\n",
      "\n",
      "\n",
      "At random state 16,the training accuracy is:- 0.5827870041815012\n",
      "At random state 16,the testing accuracy is:- 0.5417899518507724\n",
      "\n",
      "\n",
      "At random state 17,the training accuracy is:- 0.5762436007663521\n",
      "At random state 17,the testing accuracy is:- 0.5981476923143164\n",
      "\n",
      "\n",
      "At random state 18,the training accuracy is:- 0.5701363089733466\n",
      "At random state 18,the testing accuracy is:- 0.6390839370626026\n",
      "\n",
      "\n",
      "At random state 19,the training accuracy is:- 0.5734859629446367\n",
      "At random state 19,the testing accuracy is:- 0.6364621414978704\n",
      "\n",
      "\n",
      "At random state 20,the training accuracy is:- 0.5664934075579792\n",
      "At random state 20,the testing accuracy is:- 0.6714046184239306\n",
      "\n",
      "\n",
      "At random state 21,the training accuracy is:- 0.5803298633657596\n",
      "At random state 21,the testing accuracy is:- 0.5383640601329498\n",
      "\n",
      "\n",
      "At random state 22,the training accuracy is:- 0.5793595969976323\n",
      "At random state 22,the testing accuracy is:- 0.5546455947659805\n",
      "\n",
      "\n",
      "At random state 23,the training accuracy is:- 0.580320755615944\n",
      "At random state 23,the testing accuracy is:- 0.52842528693954\n",
      "\n",
      "\n",
      "At random state 24,the training accuracy is:- 0.5786412677997845\n",
      "At random state 24,the testing accuracy is:- 0.5631288893317644\n",
      "\n",
      "\n",
      "At random state 25,the training accuracy is:- 0.5700777054208984\n",
      "At random state 25,the testing accuracy is:- 0.6844778917472087\n",
      "\n",
      "\n",
      "At random state 26,the training accuracy is:- 0.5753718335181007\n",
      "At random state 26,the testing accuracy is:- 0.6028341407814104\n",
      "\n",
      "\n",
      "At random state 27,the training accuracy is:- 0.5723078160343336\n",
      "At random state 27,the testing accuracy is:- 0.6747947801862634\n",
      "\n",
      "\n",
      "At random state 28,the training accuracy is:- 0.5890917801098537\n",
      "At random state 28,the testing accuracy is:- 0.5184881103720607\n",
      "\n",
      "\n",
      "At random state 29,the training accuracy is:- 0.5905013511088562\n",
      "At random state 29,the testing accuracy is:- 0.5049684574075902\n",
      "\n",
      "\n",
      "At random state 30,the training accuracy is:- 0.577668005612717\n",
      "At random state 30,the testing accuracy is:- 0.5760571462343431\n",
      "\n",
      "\n",
      "At random state 31,the training accuracy is:- 0.5759920091679132\n",
      "At random state 31,the testing accuracy is:- 0.5893736407098709\n",
      "\n",
      "\n",
      "At random state 32,the training accuracy is:- 0.5740603099556407\n",
      "At random state 32,the testing accuracy is:- 0.60585920361864\n",
      "\n",
      "\n",
      "At random state 33,the training accuracy is:- 0.5711789804127689\n",
      "At random state 33,the testing accuracy is:- 0.6135413644352861\n",
      "\n",
      "\n",
      "At random state 34,the training accuracy is:- 0.5735674199248879\n",
      "At random state 34,the testing accuracy is:- 0.6279561394851738\n",
      "\n",
      "\n",
      "At random state 35,the training accuracy is:- 0.577481047877604\n",
      "At random state 35,the testing accuracy is:- 0.5697021334827687\n",
      "\n",
      "\n",
      "At random state 36,the training accuracy is:- 0.577710647853772\n",
      "At random state 36,the testing accuracy is:- 0.5767084404078533\n",
      "\n",
      "\n",
      "At random state 37,the training accuracy is:- 0.5749099335041353\n",
      "At random state 37,the testing accuracy is:- 0.6212968651848598\n",
      "\n",
      "\n",
      "At random state 38,the training accuracy is:- 0.5702198265088787\n",
      "At random state 38,the testing accuracy is:- 0.6195510051530455\n",
      "\n",
      "\n",
      "At random state 39,the training accuracy is:- 0.5759856144346037\n",
      "At random state 39,the testing accuracy is:- 0.6004489295895707\n",
      "\n",
      "\n",
      "At random state 40,the training accuracy is:- 0.5824659364915412\n",
      "At random state 40,the testing accuracy is:- 0.4792774591450415\n",
      "\n",
      "\n",
      "At random state 41,the training accuracy is:- 0.5773049346991981\n",
      "At random state 41,the testing accuracy is:- 0.5841075527148165\n",
      "\n",
      "\n",
      "At random state 42,the training accuracy is:- 0.5890770700942242\n",
      "At random state 42,the testing accuracy is:- 0.475935171464977\n",
      "\n",
      "\n",
      "At random state 43,the training accuracy is:- 0.5779020573855775\n",
      "At random state 43,the testing accuracy is:- 0.5573586438618092\n",
      "\n",
      "\n",
      "At random state 44,the training accuracy is:- 0.5789881451236224\n",
      "At random state 44,the testing accuracy is:- 0.5329285034819911\n",
      "\n",
      "\n",
      "At random state 45,the training accuracy is:- 0.5682908204992053\n",
      "At random state 45,the testing accuracy is:- 0.6873821241018339\n",
      "\n",
      "\n",
      "At random state 46,the training accuracy is:- 0.5745045534256238\n",
      "At random state 46,the testing accuracy is:- 0.6171944252079384\n",
      "\n",
      "\n",
      "At random state 47,the training accuracy is:- 0.573139547022832\n",
      "At random state 47,the testing accuracy is:- 0.6409093813932861\n",
      "\n",
      "\n",
      "At random state 48,the training accuracy is:- 0.5792910887010816\n",
      "At random state 48,the testing accuracy is:- 0.5527215235645735\n",
      "\n",
      "\n",
      "At random state 49,the training accuracy is:- 0.591697161825284\n",
      "At random state 49,the testing accuracy is:- 0.5026696116716332\n",
      "\n",
      "\n",
      "At random state 50,the training accuracy is:- 0.5885359149820774\n",
      "At random state 50,the testing accuracy is:- 0.51228192880957\n",
      "\n",
      "\n",
      "At random state 51,the training accuracy is:- 0.5860938536132984\n",
      "At random state 51,the testing accuracy is:- 0.5245112738614777\n",
      "\n",
      "\n",
      "At random state 52,the training accuracy is:- 0.5774520370708169\n",
      "At random state 52,the testing accuracy is:- 0.5800136120389455\n",
      "\n",
      "\n",
      "At random state 53,the training accuracy is:- 0.580376806558836\n",
      "At random state 53,the testing accuracy is:- 0.5549492027290492\n",
      "\n",
      "\n",
      "At random state 54,the training accuracy is:- 0.5726075265208057\n",
      "At random state 54,the testing accuracy is:- 0.6522746182267556\n",
      "\n",
      "\n",
      "At random state 55,the training accuracy is:- 0.5743892283233045\n",
      "At random state 55,the testing accuracy is:- 0.625433642777864\n",
      "\n",
      "\n",
      "At random state 56,the training accuracy is:- 0.5855219495984908\n",
      "At random state 56,the testing accuracy is:- 0.4813293168130398\n",
      "\n",
      "\n",
      "At random state 57,the training accuracy is:- 0.577376443102445\n",
      "At random state 57,the testing accuracy is:- 0.582093936675302\n",
      "\n",
      "\n",
      "At random state 58,the training accuracy is:- 0.5731155551492032\n",
      "At random state 58,the testing accuracy is:- 0.6230844220518597\n",
      "\n",
      "\n",
      "At random state 59,the training accuracy is:- 0.5725920813502264\n",
      "At random state 59,the testing accuracy is:- 0.6399735521148167\n",
      "\n",
      "\n",
      "At random state 60,the training accuracy is:- 0.5835841231537356\n",
      "At random state 60,the testing accuracy is:- 0.5029236956868328\n",
      "\n",
      "\n",
      "At random state 61,the training accuracy is:- 0.5696361514225678\n",
      "At random state 61,the testing accuracy is:- 0.6643078400968043\n",
      "\n",
      "\n",
      "At random state 62,the training accuracy is:- 0.5766722861241627\n",
      "At random state 62,the testing accuracy is:- 0.5844027802879415\n",
      "\n",
      "\n",
      "At random state 63,the training accuracy is:- 0.5794632775821471\n",
      "At random state 63,the testing accuracy is:- 0.4881879865312979\n",
      "\n",
      "\n",
      "At random state 64,the training accuracy is:- 0.5964201596629946\n",
      "At random state 64,the testing accuracy is:- 0.4822535702162566\n",
      "\n",
      "\n"
     ]
    },
    {
     "name": "stdout",
     "output_type": "stream",
     "text": [
      "At random state 65,the training accuracy is:- 0.5779333723651763\n",
      "At random state 65,the testing accuracy is:- 0.5749050781204432\n",
      "\n",
      "\n",
      "At random state 66,the training accuracy is:- 0.5821471936082088\n",
      "At random state 66,the testing accuracy is:- 0.5485694220390427\n",
      "\n",
      "\n",
      "At random state 67,the training accuracy is:- 0.5846865873880135\n",
      "At random state 67,the testing accuracy is:- 0.5330525481101127\n",
      "\n",
      "\n",
      "At random state 68,the training accuracy is:- 0.571406966775577\n",
      "At random state 68,the testing accuracy is:- 0.6477409495321402\n",
      "\n",
      "\n",
      "At random state 69,the training accuracy is:- 0.5843009085923285\n",
      "At random state 69,the testing accuracy is:- 0.45897178892997015\n",
      "\n",
      "\n",
      "At random state 70,the training accuracy is:- 0.5719396388431719\n",
      "At random state 70,the testing accuracy is:- 0.6554241326130467\n",
      "\n",
      "\n",
      "At random state 71,the training accuracy is:- 0.5872116494439379\n",
      "At random state 71,the testing accuracy is:- 0.5251013354610147\n",
      "\n",
      "\n",
      "At random state 72,the training accuracy is:- 0.5976643280380356\n",
      "At random state 72,the testing accuracy is:- 0.45702554593918354\n",
      "\n",
      "\n",
      "At random state 73,the training accuracy is:- 0.5744898977240426\n",
      "At random state 73,the testing accuracy is:- 0.6039265696019248\n",
      "\n",
      "\n",
      "At random state 74,the training accuracy is:- 0.5773342361214202\n",
      "At random state 74,the testing accuracy is:- 0.5683176974900546\n",
      "\n",
      "\n",
      "At random state 75,the training accuracy is:- 0.6039694687606126\n",
      "At random state 75,the testing accuracy is:- 0.4617155087061301\n",
      "\n",
      "\n",
      "At random state 76,the training accuracy is:- 0.5850934163372146\n",
      "At random state 76,the testing accuracy is:- 0.5313882251648089\n",
      "\n",
      "\n",
      "At random state 77,the training accuracy is:- 0.5932286187234757\n",
      "At random state 77,the testing accuracy is:- 0.48572688626920824\n",
      "\n",
      "\n",
      "At random state 78,the training accuracy is:- 0.5701882146212802\n",
      "At random state 78,the testing accuracy is:- 0.6764340218775899\n",
      "\n",
      "\n",
      "At random state 79,the training accuracy is:- 0.5769401673234766\n",
      "At random state 79,the testing accuracy is:- 0.5717920264127312\n",
      "\n",
      "\n",
      "At random state 80,the training accuracy is:- 0.5905405465603321\n",
      "At random state 80,the testing accuracy is:- 0.5093817506470673\n",
      "\n",
      "\n",
      "At random state 81,the training accuracy is:- 0.5765943155220519\n",
      "At random state 81,the testing accuracy is:- 0.5812010091565796\n",
      "\n",
      "\n",
      "At random state 82,the training accuracy is:- 0.5782234315883075\n",
      "At random state 82,the testing accuracy is:- 0.5760230200422882\n",
      "\n",
      "\n",
      "At random state 83,the training accuracy is:- 0.5925121914013816\n",
      "At random state 83,the testing accuracy is:- 0.4872313475358794\n",
      "\n",
      "\n",
      "At random state 84,the training accuracy is:- 0.5673700964361841\n",
      "At random state 84,the testing accuracy is:- 0.7159837013171666\n",
      "\n",
      "\n",
      "At random state 85,the training accuracy is:- 0.5750850486759567\n",
      "At random state 85,the testing accuracy is:- 0.5998551689639179\n",
      "\n",
      "\n",
      "At random state 86,the training accuracy is:- 0.5713828276199647\n",
      "At random state 86,the testing accuracy is:- 0.6543339074864217\n",
      "\n",
      "\n",
      "At random state 87,the training accuracy is:- 0.5781717679244924\n",
      "At random state 87,the testing accuracy is:- 0.5750218023085967\n",
      "\n",
      "\n",
      "At random state 88,the training accuracy is:- 0.5923222760820381\n",
      "At random state 88,the testing accuracy is:- 0.47185265951482736\n",
      "\n",
      "\n",
      "At random state 89,the training accuracy is:- 0.5847347938840113\n",
      "At random state 89,the testing accuracy is:- 0.5371151782307149\n",
      "\n",
      "\n",
      "At random state 90,the training accuracy is:- 0.5932326857492334\n",
      "At random state 90,the testing accuracy is:- 0.4668949255843028\n",
      "\n",
      "\n",
      "At random state 91,the training accuracy is:- 0.5687185912273229\n",
      "At random state 91,the testing accuracy is:- 0.7101687816704709\n",
      "\n",
      "\n",
      "At random state 92,the training accuracy is:- 0.5834503355635432\n",
      "At random state 92,the testing accuracy is:- 0.37338357484814655\n",
      "\n",
      "\n",
      "At random state 93,the training accuracy is:- 0.5832086506915694\n",
      "At random state 93,the testing accuracy is:- 0.5368624671154918\n",
      "\n",
      "\n",
      "At random state 94,the training accuracy is:- 0.5815801548728414\n",
      "At random state 94,the testing accuracy is:- 0.5401792843995329\n",
      "\n",
      "\n",
      "At random state 95,the training accuracy is:- 0.5714327409823781\n",
      "At random state 95,the testing accuracy is:- 0.6143603313437456\n",
      "\n",
      "\n",
      "At random state 96,the training accuracy is:- 0.5742181437021887\n",
      "At random state 96,the testing accuracy is:- 0.6387187872339914\n",
      "\n",
      "\n",
      "At random state 97,the training accuracy is:- 0.5722510548109689\n",
      "At random state 97,the testing accuracy is:- 0.6568581304316214\n",
      "\n",
      "\n",
      "At random state 98,the training accuracy is:- 0.5735489482094867\n",
      "At random state 98,the testing accuracy is:- 0.613729433490408\n",
      "\n",
      "\n",
      "At random state 99,the training accuracy is:- 0.5784679709022212\n",
      "At random state 99,the testing accuracy is:- 0.5714773968921736\n",
      "\n",
      "\n"
     ]
    }
   ],
   "source": [
    "for i in range(0,100):\n",
    "    x_train,x_test,y_train,y_test=train_test_split(x,y,test_size=0.1,random_state=i)\n",
    "    lr.fit(x_train,y_train)\n",
    "    pred_train=lr.predict(x_train)\n",
    "    pred_test=lr.predict(x_test)\n",
    "    print(f\"At random state {i},the training accuracy is:- {r2_score(y_train,pred_train)}\")\n",
    "    print(f\"At random state {i},the testing accuracy is:- {r2_score(y_test,pred_test)}\")\n",
    "    print(\"\\n\")"
   ]
  },
  {
   "cell_type": "code",
   "execution_count": 121,
   "id": "86ccc5a4",
   "metadata": {},
   "outputs": [],
   "source": [
    "x_train,x_test,y_train,y_test=train_test_split(x,y,test_size=.2,random_state=99)"
   ]
  },
  {
   "cell_type": "markdown",
   "id": "90c42009",
   "metadata": {},
   "source": [
    "# LinearRegression"
   ]
  },
  {
   "cell_type": "code",
   "execution_count": 122,
   "id": "2cc4668e",
   "metadata": {},
   "outputs": [
    {
     "data": {
      "text/plain": [
       "LinearRegression()"
      ]
     },
     "execution_count": 122,
     "metadata": {},
     "output_type": "execute_result"
    }
   ],
   "source": [
    "lr.fit(x_train,y_train)"
   ]
  },
  {
   "cell_type": "code",
   "execution_count": 123,
   "id": "3ed5938e",
   "metadata": {},
   "outputs": [],
   "source": [
    "pred_test=lr.predict(x_test)"
   ]
  },
  {
   "cell_type": "code",
   "execution_count": 124,
   "id": "5b7aab88",
   "metadata": {},
   "outputs": [
    {
     "data": {
      "text/plain": [
       "array([-410.89563023,  304.19801085, 1210.22979997, -244.56979152,\n",
       "        688.46332971,  783.92552209,  666.6829532 ,   95.11854864,\n",
       "       -186.77859255, 1066.62926236,  -31.96194526,  144.09185383,\n",
       "        234.91224836, -182.8408034 ,   85.18051549, 1202.16187911,\n",
       "       -216.34945011,  706.42775148,  248.62582315, -143.49463697,\n",
       "       -161.89778782,  259.68954551,  927.53787371,  220.84102378,\n",
       "        108.43802285, 1199.12258727,  628.4541271 ,  330.58775056,\n",
       "        -47.24925248, -399.0719746 ,  696.84656254,  433.39799114,\n",
       "       -230.301644  ,  121.47963438,  890.2463489 ,  881.63360851,\n",
       "       -416.86565865,  438.85291012,  811.38466594,  748.23381084,\n",
       "       -436.92185039, 1036.65545806,  391.72446113, -227.69473461,\n",
       "       1071.43529612,  549.11394262,  592.99787982,  189.493437  ,\n",
       "       -185.9021407 ,  951.79658569,  998.01346751, -230.3105204 ,\n",
       "        809.58898623,  -85.35368588,  875.99996564,   78.45899362,\n",
       "         15.56661073,  150.66863604,  703.84393369,  482.40455821,\n",
       "        312.3790061 , -163.36865365,   64.85049304, -211.60997472,\n",
       "       -157.11882944,  119.3822196 ,  675.85854847,    3.20483423,\n",
       "        615.47072392,  -79.3807421 , 1022.45302408,  -35.54306629,\n",
       "        599.44423266,  188.54719796, -123.14015338,  713.11303657,\n",
       "        -72.65259458,  258.84748091, -159.38788126,  815.86190026,\n",
       "        376.36698843,  847.63201618,   69.57451641,  143.48697216,\n",
       "       -199.05686111,  -39.00656232, -578.29914037,  127.7730695 ,\n",
       "        464.17950293,  535.75145277,  292.34477079,  264.90261269,\n",
       "        501.43161579, -364.61734844,  -72.54800996,  165.34076049,\n",
       "        275.67302766,  168.3991691 ,  542.22911111,   10.89686224,\n",
       "        430.43326457, -357.85495205,   19.41307789,  770.67639225,\n",
       "         -7.70718187,   69.15658761, -335.79134479, -553.59335099,\n",
       "         61.68223199, -266.8210479 ,  -72.04659711,  941.32038427,\n",
       "         79.32703645,  -70.97825379,  307.22610922, -374.21236097,\n",
       "        -14.10268062,  710.22574727,    8.36708367,  347.46693826,\n",
       "        740.59752259, 1107.78331599, -144.40223896,  911.4240147 ,\n",
       "         78.780497  , -152.73449099, 1037.73876416, 1053.33543913,\n",
       "       1167.4214983 , -408.36302026,  538.82000651,  186.10663713,\n",
       "       -234.96475334,  166.86656112,  410.77340609,  -44.88696149,\n",
       "       -140.2250537 , -157.52506924,  668.5732184 ,  467.27735099,\n",
       "        152.50786479,  696.82657635, -382.83966814, 1089.8691723 ,\n",
       "        165.11520566,  -74.55932685, -137.01224511,  151.55688691,\n",
       "        447.3034507 ,  598.29212099,  720.52361459,  -65.26876739,\n",
       "        607.94094116, -149.41801183,  131.47314683,  268.97937604,\n",
       "        417.25951709,  138.22784669, -515.68491359,  605.95211179,\n",
       "        209.90228514,  763.15209474, -111.34848438,  273.62811578,\n",
       "       -187.18380303,  826.16325152,  699.31382269,  424.52962486,\n",
       "         -9.20097783,  588.48222612, 1126.41580439,   19.6805388 ,\n",
       "        212.48681497,  128.65259417,  387.01255573,  480.67344801,\n",
       "         -9.80031045, 1126.10302578,  874.29987972,  207.90945549,\n",
       "         69.49432239,  258.47738839])"
      ]
     },
     "execution_count": 124,
     "metadata": {},
     "output_type": "execute_result"
    }
   ],
   "source": [
    "pred_test"
   ]
  },
  {
   "cell_type": "code",
   "execution_count": 125,
   "id": "0173ced6",
   "metadata": {},
   "outputs": [
    {
     "name": "stdout",
     "output_type": "stream",
     "text": [
      "0.5701242203036601\n"
     ]
    }
   ],
   "source": [
    "print(r2_score(y_test,pred_test))"
   ]
  },
  {
   "cell_type": "code",
   "execution_count": 126,
   "id": "4eee1f50",
   "metadata": {},
   "outputs": [],
   "source": [
    "from sklearn.model_selection import GridSearchCV\n",
    "from sklearn.model_selection import cross_val_score\n",
    "import warnings\n",
    "warnings.filterwarnings('ignore')"
   ]
  },
  {
   "cell_type": "code",
   "execution_count": 127,
   "id": "40370e85",
   "metadata": {},
   "outputs": [
    {
     "data": {
      "text/plain": [
       "0.5568662510233822"
      ]
     },
     "execution_count": 127,
     "metadata": {},
     "output_type": "execute_result"
    }
   ],
   "source": [
    "cv_score=cross_val_score(lr,x,y,cv=5)\n",
    "cv_mean=cv_score.mean()\n",
    "cv_mean"
   ]
  },
  {
   "cell_type": "markdown",
   "id": "c96c369e",
   "metadata": {},
   "source": [
    "The r2 score is 57% and the CV score is 56%"
   ]
  },
  {
   "cell_type": "markdown",
   "id": "383fc117",
   "metadata": {},
   "source": [
    "# Ridge Regression"
   ]
  },
  {
   "cell_type": "code",
   "execution_count": 128,
   "id": "5d58fbfe",
   "metadata": {},
   "outputs": [
    {
     "name": "stdout",
     "output_type": "stream",
     "text": [
      "{'alpha': 10, 'random_state': 0}\n"
     ]
    }
   ],
   "source": [
    "from sklearn.linear_model import Ridge\n",
    "\n",
    "parameters = {'alpha':[.0001, .001, .01, .1, 1, 10],'random_state':list(range(0,10))}\n",
    "rd = Ridge()\n",
    "clf = GridSearchCV(rd,parameters)\n",
    "clf.fit(x_train,y_train)\n",
    "\n",
    "print(clf.best_params_)"
   ]
  },
  {
   "cell_type": "code",
   "execution_count": 129,
   "id": "24d592d2",
   "metadata": {},
   "outputs": [
    {
     "data": {
      "text/plain": [
       "0.5722015856159678"
      ]
     },
     "execution_count": 129,
     "metadata": {},
     "output_type": "execute_result"
    }
   ],
   "source": [
    "Rid = Ridge(alpha=10,random_state=0)\n",
    "Rid.fit(x_train,y_train)\n",
    "Rid.score(x_train,y_train)\n",
    "pred_Rid = Rid.predict(x_test)\n",
    "\n",
    "Ridg = r2_score(y_test,pred_Rid)\n",
    "Ridg"
   ]
  },
  {
   "cell_type": "code",
   "execution_count": 130,
   "id": "12abf05e",
   "metadata": {},
   "outputs": [
    {
     "data": {
      "text/plain": [
       "0.5572134039397435"
      ]
     },
     "execution_count": 130,
     "metadata": {},
     "output_type": "execute_result"
    }
   ],
   "source": [
    "cv_score=cross_val_score(rd,x,y,cv=5)\n",
    "cv_mean=cv_score.mean()\n",
    "cv_mean"
   ]
  },
  {
   "cell_type": "code",
   "execution_count": null,
   "id": "54a3a733",
   "metadata": {},
   "outputs": [],
   "source": [
    "The r2 score is 57% and the CV score is 56%"
   ]
  },
  {
   "cell_type": "markdown",
   "id": "1899a189",
   "metadata": {},
   "source": [
    "# Lasso Regression"
   ]
  },
  {
   "cell_type": "code",
   "execution_count": 131,
   "id": "f35e0eed",
   "metadata": {},
   "outputs": [
    {
     "name": "stdout",
     "output_type": "stream",
     "text": [
      "{'alpha': 10, 'random_state': 0}\n"
     ]
    }
   ],
   "source": [
    "from sklearn.linear_model import Lasso\n",
    "\n",
    "parameters = {'alpha':[.0001, .001, .01, .1, 1, 10],'random_state':list(range(0,10))}\n",
    "ls = Lasso()\n",
    "clf = GridSearchCV(ls,parameters)\n",
    "clf.fit(x_train,y_train)\n",
    "\n",
    "print(clf.best_params_)"
   ]
  },
  {
   "cell_type": "code",
   "execution_count": 132,
   "id": "1d3ce0d5",
   "metadata": {},
   "outputs": [
    {
     "data": {
      "text/plain": [
       "0.5703998311557386"
      ]
     },
     "execution_count": 132,
     "metadata": {},
     "output_type": "execute_result"
    }
   ],
   "source": [
    "ls = Lasso(alpha=1,random_state=0)\n",
    "ls.fit(x_train,y_train)\n",
    "ls.score(x_train,y_train)\n",
    "pred_ls = ls.predict(x_test)\n",
    "\n",
    "lss = r2_score(y_test,pred_ls)\n",
    "lss"
   ]
  },
  {
   "cell_type": "code",
   "execution_count": 133,
   "id": "bef98e18",
   "metadata": {},
   "outputs": [
    {
     "data": {
      "text/plain": [
       "0.5572596121141381"
      ]
     },
     "execution_count": 133,
     "metadata": {},
     "output_type": "execute_result"
    }
   ],
   "source": [
    "cv_score=cross_val_score(ls,x,y,cv=5)\n",
    "cv_mean=cv_score.mean()\n",
    "cv_mean"
   ]
  },
  {
   "cell_type": "markdown",
   "id": "06a5e743",
   "metadata": {},
   "source": [
    "The r2 score is 57% and the CV score is 56%"
   ]
  },
  {
   "cell_type": "markdown",
   "id": "739dd787",
   "metadata": {},
   "source": [
    "# RandomForestRegressor"
   ]
  },
  {
   "cell_type": "code",
   "execution_count": 134,
   "id": "febabbf0",
   "metadata": {},
   "outputs": [],
   "source": [
    "from sklearn.model_selection import GridSearchCV \n",
    "from sklearn.ensemble import RandomForestRegressor"
   ]
  },
  {
   "cell_type": "code",
   "execution_count": 135,
   "id": "d44cd691",
   "metadata": {},
   "outputs": [
    {
     "name": "stdout",
     "output_type": "stream",
     "text": [
      "{'criterion': 'mae', 'max_features': 'auto'}\n"
     ]
    }
   ],
   "source": [
    "parameters = {'criterion':['mse', 'mae'],\n",
    "              'max_features':[\"auto\", \"sqrt\", \"log2\"]}\n",
    "rf =RandomForestRegressor()\n",
    "clf = GridSearchCV(rf,parameters) \n",
    "clf.fit(x_train,y_train)\n",
    "\n",
    "print(clf.best_params_)"
   ]
  },
  {
   "cell_type": "code",
   "execution_count": 136,
   "id": "cb2977ad",
   "metadata": {},
   "outputs": [
    {
     "name": "stdout",
     "output_type": "stream",
     "text": [
      "R2 Score: 99.96384753178454\n",
      "Cross Val Score: 99.60778809193313\n"
     ]
    }
   ],
   "source": [
    "rf= RandomForestRegressor(criterion=\"mse\",max_features=\"auto\")\n",
    "rf.fit(x_train, y_train)\n",
    "rf.score(x_train, y_train)\n",
    "pred_decision = rf.predict(x_test)\n",
    "\n",
    "rfs = r2_score(y_test,pred_decision)\n",
    "print('R2 Score:',rfs*100)\n",
    "\n",
    "rfscore = cross_val_score(rf,x,y,cv=5)\n",
    "rfc = rfscore.mean()\n",
    "print('Cross Val Score:',rfc*100)"
   ]
  },
  {
   "cell_type": "markdown",
   "id": "5b2fad2e",
   "metadata": {},
   "source": [
    "# Conclusion:The r2 score and the CV scores are 99.99% and hence RandomForestRegressor is the best model\n",
    "​"
   ]
  },
  {
   "cell_type": "code",
   "execution_count": null,
   "id": "a56b170b",
   "metadata": {},
   "outputs": [],
   "source": []
  },
  {
   "cell_type": "code",
   "execution_count": null,
   "id": "8cc53525",
   "metadata": {},
   "outputs": [],
   "source": []
  }
 ],
 "metadata": {
  "kernelspec": {
   "display_name": "Python 3",
   "language": "python",
   "name": "python3"
  },
  "language_info": {
   "codemirror_mode": {
    "name": "ipython",
    "version": 3
   },
   "file_extension": ".py",
   "mimetype": "text/x-python",
   "name": "python",
   "nbconvert_exporter": "python",
   "pygments_lexer": "ipython3",
   "version": "3.8.8"
  }
 },
 "nbformat": 4,
 "nbformat_minor": 5
}
